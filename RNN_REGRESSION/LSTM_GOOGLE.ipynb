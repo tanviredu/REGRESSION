{
  "nbformat": 4,
  "nbformat_minor": 0,
  "metadata": {
    "colab": {
      "name": "LSTM_GOOGLE",
      "version": "0.3.2",
      "provenance": []
    },
    "kernelspec": {
      "name": "python3",
      "display_name": "Python 3"
    },
    "accelerator": "GPU"
  },
  "cells": [
    {
      "cell_type": "code",
      "metadata": {
        "id": "4psJ9503Fw8w",
        "colab_type": "code",
        "colab": {}
      },
      "source": [
        "#!pip install tensorflow-gpu"
      ],
      "execution_count": 0,
      "outputs": []
    },
    {
      "cell_type": "code",
      "metadata": {
        "id": "cLphYD1qF6K8",
        "colab_type": "code",
        "colab": {}
      },
      "source": [
        "import numpy as np \n",
        "import pandas as pd\n",
        "import matplotlib.pyplot as plt\n",
        "import tensorflow as tf"
      ],
      "execution_count": 0,
      "outputs": []
    },
    {
      "cell_type": "code",
      "metadata": {
        "id": "x2xMUTGbGcIQ",
        "colab_type": "code",
        "colab": {}
      },
      "source": [
        "## import the data from the quandl\n",
        "#!pip install quandl\n",
        "import quandl"
      ],
      "execution_count": 0,
      "outputs": []
    },
    {
      "cell_type": "code",
      "metadata": {
        "id": "Wzb5NhybH_OJ",
        "colab_type": "code",
        "colab": {}
      },
      "source": [
        "quandl.ApiConfig.api_key = 'zuiQMfguw3rRgLvkCzxk'"
      ],
      "execution_count": 0,
      "outputs": []
    },
    {
      "cell_type": "code",
      "metadata": {
        "id": "AyHECU1PIK6L",
        "colab_type": "code",
        "colab": {}
      },
      "source": [
        "df = quandl.get('WIKI/GOOGL')"
      ],
      "execution_count": 0,
      "outputs": []
    },
    {
      "cell_type": "code",
      "metadata": {
        "id": "2GhNwgT5IQXr",
        "colab_type": "code",
        "outputId": "47ccbe97-d4d4-4f90-f908-d76352ee8829",
        "colab": {
          "base_uri": "https://localhost:8080/",
          "height": 275
        }
      },
      "source": [
        "df.head()"
      ],
      "execution_count": 6,
      "outputs": [
        {
          "output_type": "execute_result",
          "data": {
            "text/html": [
              "<div>\n",
              "<style scoped>\n",
              "    .dataframe tbody tr th:only-of-type {\n",
              "        vertical-align: middle;\n",
              "    }\n",
              "\n",
              "    .dataframe tbody tr th {\n",
              "        vertical-align: top;\n",
              "    }\n",
              "\n",
              "    .dataframe thead th {\n",
              "        text-align: right;\n",
              "    }\n",
              "</style>\n",
              "<table border=\"1\" class=\"dataframe\">\n",
              "  <thead>\n",
              "    <tr style=\"text-align: right;\">\n",
              "      <th></th>\n",
              "      <th>Open</th>\n",
              "      <th>High</th>\n",
              "      <th>Low</th>\n",
              "      <th>Close</th>\n",
              "      <th>Volume</th>\n",
              "      <th>Ex-Dividend</th>\n",
              "      <th>Split Ratio</th>\n",
              "      <th>Adj. Open</th>\n",
              "      <th>Adj. High</th>\n",
              "      <th>Adj. Low</th>\n",
              "      <th>Adj. Close</th>\n",
              "      <th>Adj. Volume</th>\n",
              "    </tr>\n",
              "    <tr>\n",
              "      <th>Date</th>\n",
              "      <th></th>\n",
              "      <th></th>\n",
              "      <th></th>\n",
              "      <th></th>\n",
              "      <th></th>\n",
              "      <th></th>\n",
              "      <th></th>\n",
              "      <th></th>\n",
              "      <th></th>\n",
              "      <th></th>\n",
              "      <th></th>\n",
              "      <th></th>\n",
              "    </tr>\n",
              "  </thead>\n",
              "  <tbody>\n",
              "    <tr>\n",
              "      <th>2004-08-19</th>\n",
              "      <td>100.01</td>\n",
              "      <td>104.06</td>\n",
              "      <td>95.96</td>\n",
              "      <td>100.335</td>\n",
              "      <td>44659000.0</td>\n",
              "      <td>0.0</td>\n",
              "      <td>1.0</td>\n",
              "      <td>50.159839</td>\n",
              "      <td>52.191109</td>\n",
              "      <td>48.128568</td>\n",
              "      <td>50.322842</td>\n",
              "      <td>44659000.0</td>\n",
              "    </tr>\n",
              "    <tr>\n",
              "      <th>2004-08-20</th>\n",
              "      <td>101.01</td>\n",
              "      <td>109.08</td>\n",
              "      <td>100.50</td>\n",
              "      <td>108.310</td>\n",
              "      <td>22834300.0</td>\n",
              "      <td>0.0</td>\n",
              "      <td>1.0</td>\n",
              "      <td>50.661387</td>\n",
              "      <td>54.708881</td>\n",
              "      <td>50.405597</td>\n",
              "      <td>54.322689</td>\n",
              "      <td>22834300.0</td>\n",
              "    </tr>\n",
              "    <tr>\n",
              "      <th>2004-08-23</th>\n",
              "      <td>110.76</td>\n",
              "      <td>113.48</td>\n",
              "      <td>109.05</td>\n",
              "      <td>109.400</td>\n",
              "      <td>18256100.0</td>\n",
              "      <td>0.0</td>\n",
              "      <td>1.0</td>\n",
              "      <td>55.551482</td>\n",
              "      <td>56.915693</td>\n",
              "      <td>54.693835</td>\n",
              "      <td>54.869377</td>\n",
              "      <td>18256100.0</td>\n",
              "    </tr>\n",
              "    <tr>\n",
              "      <th>2004-08-24</th>\n",
              "      <td>111.24</td>\n",
              "      <td>111.60</td>\n",
              "      <td>103.57</td>\n",
              "      <td>104.870</td>\n",
              "      <td>15247300.0</td>\n",
              "      <td>0.0</td>\n",
              "      <td>1.0</td>\n",
              "      <td>55.792225</td>\n",
              "      <td>55.972783</td>\n",
              "      <td>51.945350</td>\n",
              "      <td>52.597363</td>\n",
              "      <td>15247300.0</td>\n",
              "    </tr>\n",
              "    <tr>\n",
              "      <th>2004-08-25</th>\n",
              "      <td>104.76</td>\n",
              "      <td>108.00</td>\n",
              "      <td>103.88</td>\n",
              "      <td>106.000</td>\n",
              "      <td>9188600.0</td>\n",
              "      <td>0.0</td>\n",
              "      <td>1.0</td>\n",
              "      <td>52.542193</td>\n",
              "      <td>54.167209</td>\n",
              "      <td>52.100830</td>\n",
              "      <td>53.164113</td>\n",
              "      <td>9188600.0</td>\n",
              "    </tr>\n",
              "  </tbody>\n",
              "</table>\n",
              "</div>"
            ],
            "text/plain": [
              "              Open    High     Low  ...   Adj. Low  Adj. Close  Adj. Volume\n",
              "Date                                ...                                    \n",
              "2004-08-19  100.01  104.06   95.96  ...  48.128568   50.322842   44659000.0\n",
              "2004-08-20  101.01  109.08  100.50  ...  50.405597   54.322689   22834300.0\n",
              "2004-08-23  110.76  113.48  109.05  ...  54.693835   54.869377   18256100.0\n",
              "2004-08-24  111.24  111.60  103.57  ...  51.945350   52.597363   15247300.0\n",
              "2004-08-25  104.76  108.00  103.88  ...  52.100830   53.164113    9188600.0\n",
              "\n",
              "[5 rows x 12 columns]"
            ]
          },
          "metadata": {
            "tags": []
          },
          "execution_count": 6
        }
      ]
    },
    {
      "cell_type": "code",
      "metadata": {
        "id": "KYEMXSwzISwk",
        "colab_type": "code",
        "outputId": "0b12aedc-8022-4a9d-e161-e7a6d255f0f1",
        "colab": {
          "base_uri": "https://localhost:8080/",
          "height": 275
        }
      },
      "source": [
        "df.tail()"
      ],
      "execution_count": 7,
      "outputs": [
        {
          "output_type": "execute_result",
          "data": {
            "text/html": [
              "<div>\n",
              "<style scoped>\n",
              "    .dataframe tbody tr th:only-of-type {\n",
              "        vertical-align: middle;\n",
              "    }\n",
              "\n",
              "    .dataframe tbody tr th {\n",
              "        vertical-align: top;\n",
              "    }\n",
              "\n",
              "    .dataframe thead th {\n",
              "        text-align: right;\n",
              "    }\n",
              "</style>\n",
              "<table border=\"1\" class=\"dataframe\">\n",
              "  <thead>\n",
              "    <tr style=\"text-align: right;\">\n",
              "      <th></th>\n",
              "      <th>Open</th>\n",
              "      <th>High</th>\n",
              "      <th>Low</th>\n",
              "      <th>Close</th>\n",
              "      <th>Volume</th>\n",
              "      <th>Ex-Dividend</th>\n",
              "      <th>Split Ratio</th>\n",
              "      <th>Adj. Open</th>\n",
              "      <th>Adj. High</th>\n",
              "      <th>Adj. Low</th>\n",
              "      <th>Adj. Close</th>\n",
              "      <th>Adj. Volume</th>\n",
              "    </tr>\n",
              "    <tr>\n",
              "      <th>Date</th>\n",
              "      <th></th>\n",
              "      <th></th>\n",
              "      <th></th>\n",
              "      <th></th>\n",
              "      <th></th>\n",
              "      <th></th>\n",
              "      <th></th>\n",
              "      <th></th>\n",
              "      <th></th>\n",
              "      <th></th>\n",
              "      <th></th>\n",
              "      <th></th>\n",
              "    </tr>\n",
              "  </thead>\n",
              "  <tbody>\n",
              "    <tr>\n",
              "      <th>2018-03-21</th>\n",
              "      <td>1092.57</td>\n",
              "      <td>1108.70</td>\n",
              "      <td>1087.21</td>\n",
              "      <td>1094.00</td>\n",
              "      <td>1990515.0</td>\n",
              "      <td>0.0</td>\n",
              "      <td>1.0</td>\n",
              "      <td>1092.57</td>\n",
              "      <td>1108.70</td>\n",
              "      <td>1087.21</td>\n",
              "      <td>1094.00</td>\n",
              "      <td>1990515.0</td>\n",
              "    </tr>\n",
              "    <tr>\n",
              "      <th>2018-03-22</th>\n",
              "      <td>1080.01</td>\n",
              "      <td>1083.92</td>\n",
              "      <td>1049.64</td>\n",
              "      <td>1053.15</td>\n",
              "      <td>3418154.0</td>\n",
              "      <td>0.0</td>\n",
              "      <td>1.0</td>\n",
              "      <td>1080.01</td>\n",
              "      <td>1083.92</td>\n",
              "      <td>1049.64</td>\n",
              "      <td>1053.15</td>\n",
              "      <td>3418154.0</td>\n",
              "    </tr>\n",
              "    <tr>\n",
              "      <th>2018-03-23</th>\n",
              "      <td>1051.37</td>\n",
              "      <td>1066.78</td>\n",
              "      <td>1024.87</td>\n",
              "      <td>1026.55</td>\n",
              "      <td>2413517.0</td>\n",
              "      <td>0.0</td>\n",
              "      <td>1.0</td>\n",
              "      <td>1051.37</td>\n",
              "      <td>1066.78</td>\n",
              "      <td>1024.87</td>\n",
              "      <td>1026.55</td>\n",
              "      <td>2413517.0</td>\n",
              "    </tr>\n",
              "    <tr>\n",
              "      <th>2018-03-26</th>\n",
              "      <td>1050.60</td>\n",
              "      <td>1059.27</td>\n",
              "      <td>1010.58</td>\n",
              "      <td>1054.09</td>\n",
              "      <td>3272409.0</td>\n",
              "      <td>0.0</td>\n",
              "      <td>1.0</td>\n",
              "      <td>1050.60</td>\n",
              "      <td>1059.27</td>\n",
              "      <td>1010.58</td>\n",
              "      <td>1054.09</td>\n",
              "      <td>3272409.0</td>\n",
              "    </tr>\n",
              "    <tr>\n",
              "      <th>2018-03-27</th>\n",
              "      <td>1063.90</td>\n",
              "      <td>1064.54</td>\n",
              "      <td>997.62</td>\n",
              "      <td>1006.94</td>\n",
              "      <td>2940957.0</td>\n",
              "      <td>0.0</td>\n",
              "      <td>1.0</td>\n",
              "      <td>1063.90</td>\n",
              "      <td>1064.54</td>\n",
              "      <td>997.62</td>\n",
              "      <td>1006.94</td>\n",
              "      <td>2940957.0</td>\n",
              "    </tr>\n",
              "  </tbody>\n",
              "</table>\n",
              "</div>"
            ],
            "text/plain": [
              "               Open     High      Low  ...  Adj. Low  Adj. Close  Adj. Volume\n",
              "Date                                   ...                                   \n",
              "2018-03-21  1092.57  1108.70  1087.21  ...   1087.21     1094.00    1990515.0\n",
              "2018-03-22  1080.01  1083.92  1049.64  ...   1049.64     1053.15    3418154.0\n",
              "2018-03-23  1051.37  1066.78  1024.87  ...   1024.87     1026.55    2413517.0\n",
              "2018-03-26  1050.60  1059.27  1010.58  ...   1010.58     1054.09    3272409.0\n",
              "2018-03-27  1063.90  1064.54   997.62  ...    997.62     1006.94    2940957.0\n",
              "\n",
              "[5 rows x 12 columns]"
            ]
          },
          "metadata": {
            "tags": []
          },
          "execution_count": 7
        }
      ]
    },
    {
      "cell_type": "code",
      "metadata": {
        "id": "D_rObZFoIUzl",
        "colab_type": "code",
        "outputId": "754d8e0d-aa25-4a16-be62-26bceefbd181",
        "colab": {
          "base_uri": "https://localhost:8080/",
          "height": 251
        }
      },
      "source": [
        "##checking is there null value\n",
        "df.isnull().sum()"
      ],
      "execution_count": 8,
      "outputs": [
        {
          "output_type": "execute_result",
          "data": {
            "text/plain": [
              "Open           0\n",
              "High           0\n",
              "Low            0\n",
              "Close          0\n",
              "Volume         0\n",
              "Ex-Dividend    0\n",
              "Split Ratio    0\n",
              "Adj. Open      0\n",
              "Adj. High      0\n",
              "Adj. Low       0\n",
              "Adj. Close     0\n",
              "Adj. Volume    0\n",
              "dtype: int64"
            ]
          },
          "metadata": {
            "tags": []
          },
          "execution_count": 8
        }
      ]
    },
    {
      "cell_type": "code",
      "metadata": {
        "id": "qTxOG7kBIbnN",
        "colab_type": "code",
        "outputId": "e681d891-b9cf-4c23-ce28-2d28c9a6b573",
        "colab": {
          "base_uri": "https://localhost:8080/",
          "height": 425
        }
      },
      "source": [
        "df.corr()[['Adj. Close']]"
      ],
      "execution_count": 9,
      "outputs": [
        {
          "output_type": "execute_result",
          "data": {
            "text/html": [
              "<div>\n",
              "<style scoped>\n",
              "    .dataframe tbody tr th:only-of-type {\n",
              "        vertical-align: middle;\n",
              "    }\n",
              "\n",
              "    .dataframe tbody tr th {\n",
              "        vertical-align: top;\n",
              "    }\n",
              "\n",
              "    .dataframe thead th {\n",
              "        text-align: right;\n",
              "    }\n",
              "</style>\n",
              "<table border=\"1\" class=\"dataframe\">\n",
              "  <thead>\n",
              "    <tr style=\"text-align: right;\">\n",
              "      <th></th>\n",
              "      <th>Adj. Close</th>\n",
              "    </tr>\n",
              "  </thead>\n",
              "  <tbody>\n",
              "    <tr>\n",
              "      <th>Open</th>\n",
              "      <td>0.815542</td>\n",
              "    </tr>\n",
              "    <tr>\n",
              "      <th>High</th>\n",
              "      <td>0.815432</td>\n",
              "    </tr>\n",
              "    <tr>\n",
              "      <th>Low</th>\n",
              "      <td>0.815961</td>\n",
              "    </tr>\n",
              "    <tr>\n",
              "      <th>Close</th>\n",
              "      <td>0.816047</td>\n",
              "    </tr>\n",
              "    <tr>\n",
              "      <th>Volume</th>\n",
              "      <td>-0.550264</td>\n",
              "    </tr>\n",
              "    <tr>\n",
              "      <th>Ex-Dividend</th>\n",
              "      <td>0.010773</td>\n",
              "    </tr>\n",
              "    <tr>\n",
              "      <th>Split Ratio</th>\n",
              "      <td>NaN</td>\n",
              "    </tr>\n",
              "    <tr>\n",
              "      <th>Adj. Open</th>\n",
              "      <td>0.999758</td>\n",
              "    </tr>\n",
              "    <tr>\n",
              "      <th>Adj. High</th>\n",
              "      <td>0.999869</td>\n",
              "    </tr>\n",
              "    <tr>\n",
              "      <th>Adj. Low</th>\n",
              "      <td>0.999902</td>\n",
              "    </tr>\n",
              "    <tr>\n",
              "      <th>Adj. Close</th>\n",
              "      <td>1.000000</td>\n",
              "    </tr>\n",
              "    <tr>\n",
              "      <th>Adj. Volume</th>\n",
              "      <td>-0.550264</td>\n",
              "    </tr>\n",
              "  </tbody>\n",
              "</table>\n",
              "</div>"
            ],
            "text/plain": [
              "             Adj. Close\n",
              "Open           0.815542\n",
              "High           0.815432\n",
              "Low            0.815961\n",
              "Close          0.816047\n",
              "Volume        -0.550264\n",
              "Ex-Dividend    0.010773\n",
              "Split Ratio         NaN\n",
              "Adj. Open      0.999758\n",
              "Adj. High      0.999869\n",
              "Adj. Low       0.999902\n",
              "Adj. Close     1.000000\n",
              "Adj. Volume   -0.550264"
            ]
          },
          "metadata": {
            "tags": []
          },
          "execution_count": 9
        }
      ]
    },
    {
      "cell_type": "code",
      "metadata": {
        "id": "pV08ZJW6Ihhj",
        "colab_type": "code",
        "colab": {}
      },
      "source": [
        "## dropping the split ratio adj.Vlume Volume EX-Divident\n",
        "df=df.drop('Volume',axis=1)"
      ],
      "execution_count": 0,
      "outputs": []
    },
    {
      "cell_type": "code",
      "metadata": {
        "id": "IplO4CxeJPNm",
        "colab_type": "code",
        "colab": {}
      },
      "source": [
        "df=df.drop('Adj. Volume',axis=1)\n",
        "df=df.drop('Split Ratio',axis=1)\n",
        "df=df.drop('Ex-Dividend',axis=1)"
      ],
      "execution_count": 0,
      "outputs": []
    },
    {
      "cell_type": "code",
      "metadata": {
        "id": "q7LA0DtEJQp0",
        "colab_type": "code",
        "outputId": "02c2f1af-5c2f-41ad-9f3a-e7a85bf73223",
        "colab": {
          "base_uri": "https://localhost:8080/",
          "height": 275
        }
      },
      "source": [
        "df.head()"
      ],
      "execution_count": 12,
      "outputs": [
        {
          "output_type": "execute_result",
          "data": {
            "text/html": [
              "<div>\n",
              "<style scoped>\n",
              "    .dataframe tbody tr th:only-of-type {\n",
              "        vertical-align: middle;\n",
              "    }\n",
              "\n",
              "    .dataframe tbody tr th {\n",
              "        vertical-align: top;\n",
              "    }\n",
              "\n",
              "    .dataframe thead th {\n",
              "        text-align: right;\n",
              "    }\n",
              "</style>\n",
              "<table border=\"1\" class=\"dataframe\">\n",
              "  <thead>\n",
              "    <tr style=\"text-align: right;\">\n",
              "      <th></th>\n",
              "      <th>Open</th>\n",
              "      <th>High</th>\n",
              "      <th>Low</th>\n",
              "      <th>Close</th>\n",
              "      <th>Adj. Open</th>\n",
              "      <th>Adj. High</th>\n",
              "      <th>Adj. Low</th>\n",
              "      <th>Adj. Close</th>\n",
              "    </tr>\n",
              "    <tr>\n",
              "      <th>Date</th>\n",
              "      <th></th>\n",
              "      <th></th>\n",
              "      <th></th>\n",
              "      <th></th>\n",
              "      <th></th>\n",
              "      <th></th>\n",
              "      <th></th>\n",
              "      <th></th>\n",
              "    </tr>\n",
              "  </thead>\n",
              "  <tbody>\n",
              "    <tr>\n",
              "      <th>2004-08-19</th>\n",
              "      <td>100.01</td>\n",
              "      <td>104.06</td>\n",
              "      <td>95.96</td>\n",
              "      <td>100.335</td>\n",
              "      <td>50.159839</td>\n",
              "      <td>52.191109</td>\n",
              "      <td>48.128568</td>\n",
              "      <td>50.322842</td>\n",
              "    </tr>\n",
              "    <tr>\n",
              "      <th>2004-08-20</th>\n",
              "      <td>101.01</td>\n",
              "      <td>109.08</td>\n",
              "      <td>100.50</td>\n",
              "      <td>108.310</td>\n",
              "      <td>50.661387</td>\n",
              "      <td>54.708881</td>\n",
              "      <td>50.405597</td>\n",
              "      <td>54.322689</td>\n",
              "    </tr>\n",
              "    <tr>\n",
              "      <th>2004-08-23</th>\n",
              "      <td>110.76</td>\n",
              "      <td>113.48</td>\n",
              "      <td>109.05</td>\n",
              "      <td>109.400</td>\n",
              "      <td>55.551482</td>\n",
              "      <td>56.915693</td>\n",
              "      <td>54.693835</td>\n",
              "      <td>54.869377</td>\n",
              "    </tr>\n",
              "    <tr>\n",
              "      <th>2004-08-24</th>\n",
              "      <td>111.24</td>\n",
              "      <td>111.60</td>\n",
              "      <td>103.57</td>\n",
              "      <td>104.870</td>\n",
              "      <td>55.792225</td>\n",
              "      <td>55.972783</td>\n",
              "      <td>51.945350</td>\n",
              "      <td>52.597363</td>\n",
              "    </tr>\n",
              "    <tr>\n",
              "      <th>2004-08-25</th>\n",
              "      <td>104.76</td>\n",
              "      <td>108.00</td>\n",
              "      <td>103.88</td>\n",
              "      <td>106.000</td>\n",
              "      <td>52.542193</td>\n",
              "      <td>54.167209</td>\n",
              "      <td>52.100830</td>\n",
              "      <td>53.164113</td>\n",
              "    </tr>\n",
              "  </tbody>\n",
              "</table>\n",
              "</div>"
            ],
            "text/plain": [
              "              Open    High     Low  ...  Adj. High   Adj. Low  Adj. Close\n",
              "Date                                ...                                  \n",
              "2004-08-19  100.01  104.06   95.96  ...  52.191109  48.128568   50.322842\n",
              "2004-08-20  101.01  109.08  100.50  ...  54.708881  50.405597   54.322689\n",
              "2004-08-23  110.76  113.48  109.05  ...  56.915693  54.693835   54.869377\n",
              "2004-08-24  111.24  111.60  103.57  ...  55.972783  51.945350   52.597363\n",
              "2004-08-25  104.76  108.00  103.88  ...  54.167209  52.100830   53.164113\n",
              "\n",
              "[5 rows x 8 columns]"
            ]
          },
          "metadata": {
            "tags": []
          },
          "execution_count": 12
        }
      ]
    },
    {
      "cell_type": "code",
      "metadata": {
        "id": "57gckPwYJj-o",
        "colab_type": "code",
        "outputId": "0b62ef1e-cee7-44fd-dec5-9e0702a9cffd",
        "colab": {
          "base_uri": "https://localhost:8080/",
          "height": 287
        }
      },
      "source": [
        "df.corr()['Adj. Close'].plot()"
      ],
      "execution_count": 13,
      "outputs": [
        {
          "output_type": "execute_result",
          "data": {
            "text/plain": [
              "<matplotlib.axes._subplots.AxesSubplot at 0x7f686182b390>"
            ]
          },
          "metadata": {
            "tags": []
          },
          "execution_count": 13
        },
        {
          "output_type": "display_data",
          "data": {
            "image/png": "[encoded data removed]",
            "text/plain": [
              "<Figure size 432x288 with 1 Axes>"
            ]
          },
          "metadata": {
            "tags": []
          }
        }
      ]
    },
    {
      "cell_type": "code",
      "metadata": {
        "id": "N02kVSHQJoBM",
        "colab_type": "code",
        "colab": {}
      },
      "source": [
        "from sklearn.model_selection import train_test_split\n",
        "from sklearn.preprocessing import MinMaxScaler"
      ],
      "execution_count": 0,
      "outputs": []
    },
    {
      "cell_type": "code",
      "metadata": {
        "id": "MPpINtLFKBun",
        "colab_type": "code",
        "colab": {}
      },
      "source": [
        "X = df.drop('Adj. Close',axis=True)\n",
        "y = df[['Adj. Close']]"
      ],
      "execution_count": 0,
      "outputs": []
    },
    {
      "cell_type": "code",
      "metadata": {
        "id": "BGjP7ngZKwl0",
        "colab_type": "code",
        "colab": {}
      },
      "source": [
        "x_train,x_test,y_train,y_test = train_test_split(X,y,test_size=.2)\n",
        "result = y_test\n",
        "scaler = MinMaxScaler()\n",
        "scaler.fit(x_train)\n",
        "xtrain_t = scaler.transform(x_train)\n",
        "scaler.fit(x_test)\n",
        "xtest_t = scaler.transform(x_test)\n",
        "scaler.fit(y_train)\n",
        "y_train =scaler.transform(y_train) # we transform the y so after predict we have to inverse transeform it\n",
        "scaler.fit(y_test)\n",
        "y_test =scaler.transform(y_test) # we transform the y so after predict we have to inverse transeform it"
      ],
      "execution_count": 0,
      "outputs": []
    },
    {
      "cell_type": "code",
      "metadata": {
        "id": "1V44MNyjLhyL",
        "colab_type": "code",
        "outputId": "64ac49a4-68d1-4e1f-babd-b4fd6be60b18",
        "colab": {
          "base_uri": "https://localhost:8080/",
          "height": 35
        }
      },
      "source": [
        "from keras.models import Sequential\n",
        "from keras.layers import Dense\n",
        "from keras.layers import LSTM\n",
        "from keras.layers import Dropout\n",
        "from keras.layers import Flatten"
      ],
      "execution_count": 17,
      "outputs": [
        {
          "output_type": "stream",
          "text": [
            "Using TensorFlow backend.\n"
          ],
          "name": "stderr"
        }
      ]
    },
    {
      "cell_type": "code",
      "metadata": {
        "id": "VuglsY7aLABa",
        "colab_type": "code",
        "colab": {}
      },
      "source": [
        ""
      ],
      "execution_count": 0,
      "outputs": []
    },
    {
      "cell_type": "code",
      "metadata": {
        "id": "zTFMMPknTgrM",
        "colab_type": "code",
        "colab": {}
      },
      "source": [
        "x_train = np.reshape(xtrain_t, (xtrain_t.shape[0],xtrain_t.shape[1],1))\n",
        "x_test = np.reshape(xtest_t, (xtest_t.shape[0],xtest_t.shape[1],1))"
      ],
      "execution_count": 0,
      "outputs": []
    },
    {
      "cell_type": "code",
      "metadata": {
        "id": "3WaUhmKOL2ZY",
        "colab_type": "code",
        "outputId": "bbe92fdc-d1c3-41da-ed72-a36f72ed0eb7",
        "colab": {
          "base_uri": "https://localhost:8080/",
          "height": 89
        }
      },
      "source": [
        "print (x_train.shape)\n",
        "print (x_test.shape)\n",
        "print (y_train.shape)\n",
        "print (y_test.shape)"
      ],
      "execution_count": 19,
      "outputs": [
        {
          "output_type": "stream",
          "text": [
            "(2739, 7, 1)\n",
            "(685, 7, 1)\n",
            "(2739, 1)\n",
            "(685, 1)\n"
          ],
          "name": "stdout"
        }
      ]
    },
    {
      "cell_type": "code",
      "metadata": {
        "id": "dYMCoNfuM6ZO",
        "colab_type": "code",
        "colab": {}
      },
      "source": [
        "regressor = Sequential()\n",
        "regressor.add(LSTM(units = 50,return_sequences = True))"
      ],
      "execution_count": 0,
      "outputs": []
    },
    {
      "cell_type": "code",
      "metadata": {
        "id": "TKmUMPXTNNay",
        "colab_type": "code",
        "colab": {}
      },
      "source": [
        "regressor.add(Dropout(0.2))\n",
        "regressor.add(LSTM(units = 50,return_sequences = True))\n",
        "regressor.add(Dropout(0.2))\n",
        "\n"
      ],
      "execution_count": 0,
      "outputs": []
    },
    {
      "cell_type": "code",
      "metadata": {
        "id": "5l9PAzafSycL",
        "colab_type": "code",
        "colab": {}
      },
      "source": [
        "regressor.add(LSTM(units = 50))\n",
        "regressor.add(Dropout(0.2))"
      ],
      "execution_count": 0,
      "outputs": []
    },
    {
      "cell_type": "code",
      "metadata": {
        "id": "xrSpLkFBS1B1",
        "colab_type": "code",
        "colab": {}
      },
      "source": [
        "regressor.add(Dense(units = 1))"
      ],
      "execution_count": 0,
      "outputs": []
    },
    {
      "cell_type": "code",
      "metadata": {
        "id": "HnNr_FYJS3vY",
        "colab_type": "code",
        "outputId": "9bc3da8c-d216-4a9b-fdad-57ecb285c856",
        "colab": {
          "base_uri": "https://localhost:8080/",
          "height": 91
        }
      },
      "source": [
        "regressor.compile(optimizer = 'adam',loss = 'mean_squared_error',metrics=['accuracy'])"
      ],
      "execution_count": 24,
      "outputs": [
        {
          "output_type": "stream",
          "text": [
            "WARNING:tensorflow:From /usr/local/lib/python3.6/dist-packages/tensorflow/python/framework/op_def_library.py:263: colocate_with (from tensorflow.python.framework.ops) is deprecated and will be removed in a future version.\n",
            "Instructions for updating:\n",
            "Colocations handled automatically by placer.\n"
          ],
          "name": "stdout"
        }
      ]
    },
    {
      "cell_type": "code",
      "metadata": {
        "id": "u4jyGnZIS9nG",
        "colab_type": "code",
        "outputId": "2029067c-dd1c-4606-c02d-a7ad46215cd4",
        "colab": {
          "base_uri": "https://localhost:8080/",
          "height": 3770
        }
      },
      "source": [
        "regressor.fit(x_train,y_train,epochs = 100)"
      ],
      "execution_count": 25,
      "outputs": [
        {
          "output_type": "stream",
          "text": [
            "WARNING:tensorflow:From /usr/local/lib/python3.6/dist-packages/keras/backend/tensorflow_backend.py:3445: calling dropout (from tensorflow.python.ops.nn_ops) with keep_prob is deprecated and will be removed in a future version.\n",
            "Instructions for updating:\n",
            "Please use `rate` instead of `keep_prob`. Rate should be set to `rate = 1 - keep_prob`.\n",
            "WARNING:tensorflow:From /usr/local/lib/python3.6/dist-packages/tensorflow/python/ops/math_ops.py:3066: to_int32 (from tensorflow.python.ops.math_ops) is deprecated and will be removed in a future version.\n",
            "Instructions for updating:\n",
            "Use tf.cast instead.\n",
            "Epoch 1/100\n",
            "2739/2739 [==============================] - 5s 2ms/step - loss: 0.0283 - acc: 7.3019e-04\n",
            "Epoch 2/100\n",
            "2739/2739 [==============================] - 3s 1ms/step - loss: 0.0108 - acc: 7.3019e-04\n",
            "Epoch 3/100\n",
            "2739/2739 [==============================] - 3s 1ms/step - loss: 0.0074 - acc: 7.3019e-04\n",
            "Epoch 4/100\n",
            "2739/2739 [==============================] - 3s 1ms/step - loss: 0.0036 - acc: 7.3019e-04\n",
            "Epoch 5/100\n",
            "2739/2739 [==============================] - 3s 1ms/step - loss: 0.0023 - acc: 7.3019e-04\n",
            "Epoch 6/100\n",
            "2739/2739 [==============================] - 3s 1ms/step - loss: 0.0022 - acc: 7.3019e-04\n",
            "Epoch 7/100\n",
            "2739/2739 [==============================] - 3s 1ms/step - loss: 0.0020 - acc: 7.3019e-04\n",
            "Epoch 8/100\n",
            "2739/2739 [==============================] - 3s 1ms/step - loss: 0.0015 - acc: 7.3019e-04\n",
            "Epoch 9/100\n",
            "2739/2739 [==============================] - 3s 1ms/step - loss: 0.0014 - acc: 7.3019e-04\n",
            "Epoch 10/100\n",
            "2739/2739 [==============================] - 3s 1ms/step - loss: 0.0014 - acc: 7.3019e-04\n",
            "Epoch 11/100\n",
            "2739/2739 [==============================] - 3s 1ms/step - loss: 0.0012 - acc: 7.3019e-04\n",
            "Epoch 12/100\n",
            "2739/2739 [==============================] - 3s 1ms/step - loss: 0.0011 - acc: 7.3019e-04\n",
            "Epoch 13/100\n",
            "2739/2739 [==============================] - 3s 1ms/step - loss: 0.0011 - acc: 7.3019e-04\n",
            "Epoch 14/100\n",
            "2739/2739 [==============================] - 3s 1ms/step - loss: 9.0659e-04 - acc: 7.3019e-04\n",
            "Epoch 15/100\n",
            "2739/2739 [==============================] - 3s 1ms/step - loss: 8.9311e-04 - acc: 7.3019e-04\n",
            "Epoch 16/100\n",
            "2739/2739 [==============================] - 3s 1ms/step - loss: 8.8932e-04 - acc: 7.3019e-04\n",
            "Epoch 17/100\n",
            "2739/2739 [==============================] - 3s 1ms/step - loss: 9.3286e-04 - acc: 7.3019e-04\n",
            "Epoch 18/100\n",
            "2739/2739 [==============================] - 3s 1ms/step - loss: 8.8107e-04 - acc: 7.3019e-04\n",
            "Epoch 19/100\n",
            "2739/2739 [==============================] - 3s 1ms/step - loss: 9.3432e-04 - acc: 7.3019e-04\n",
            "Epoch 20/100\n",
            "2739/2739 [==============================] - 3s 1ms/step - loss: 8.3075e-04 - acc: 7.3019e-04\n",
            "Epoch 21/100\n",
            "2739/2739 [==============================] - 3s 1ms/step - loss: 8.0172e-04 - acc: 7.3019e-04\n",
            "Epoch 22/100\n",
            "2739/2739 [==============================] - 3s 1ms/step - loss: 7.3709e-04 - acc: 7.3019e-04\n",
            "Epoch 23/100\n",
            "2739/2739 [==============================] - 3s 1ms/step - loss: 7.7253e-04 - acc: 7.3019e-04\n",
            "Epoch 24/100\n",
            "2739/2739 [==============================] - 3s 1ms/step - loss: 7.6974e-04 - acc: 7.3019e-04\n",
            "Epoch 25/100\n",
            "2739/2739 [==============================] - 3s 1ms/step - loss: 7.5985e-04 - acc: 7.3019e-04\n",
            "Epoch 26/100\n",
            "2739/2739 [==============================] - 3s 1ms/step - loss: 7.8503e-04 - acc: 7.3019e-04\n",
            "Epoch 27/100\n",
            "2739/2739 [==============================] - 3s 1ms/step - loss: 7.7880e-04 - acc: 7.3019e-04\n",
            "Epoch 28/100\n",
            "2739/2739 [==============================] - 3s 1ms/step - loss: 6.7854e-04 - acc: 7.3019e-04\n",
            "Epoch 29/100\n",
            "2739/2739 [==============================] - 3s 1ms/step - loss: 7.5580e-04 - acc: 7.3019e-04\n",
            "Epoch 30/100\n",
            "2739/2739 [==============================] - 3s 1ms/step - loss: 6.2438e-04 - acc: 7.3019e-04\n",
            "Epoch 31/100\n",
            "2739/2739 [==============================] - 3s 1ms/step - loss: 6.6340e-04 - acc: 7.3019e-04\n",
            "Epoch 32/100\n",
            "2739/2739 [==============================] - 3s 1ms/step - loss: 6.8497e-04 - acc: 7.3019e-04\n",
            "Epoch 33/100\n",
            "2739/2739 [==============================] - 3s 1ms/step - loss: 6.5415e-04 - acc: 7.3019e-04\n",
            "Epoch 34/100\n",
            "2739/2739 [==============================] - 3s 1ms/step - loss: 5.5494e-04 - acc: 7.3019e-04\n",
            "Epoch 35/100\n",
            "2739/2739 [==============================] - 3s 1ms/step - loss: 6.3045e-04 - acc: 7.3019e-04\n",
            "Epoch 36/100\n",
            "2739/2739 [==============================] - 3s 1ms/step - loss: 5.5762e-04 - acc: 7.3019e-04\n",
            "Epoch 37/100\n",
            "2739/2739 [==============================] - 3s 1ms/step - loss: 6.3710e-04 - acc: 7.3019e-04\n",
            "Epoch 38/100\n",
            "2739/2739 [==============================] - 3s 1ms/step - loss: 6.1088e-04 - acc: 7.3019e-04\n",
            "Epoch 39/100\n",
            "2739/2739 [==============================] - 3s 1ms/step - loss: 6.1341e-04 - acc: 7.3019e-04\n",
            "Epoch 40/100\n",
            "2739/2739 [==============================] - 3s 1ms/step - loss: 5.3097e-04 - acc: 7.3019e-04\n",
            "Epoch 41/100\n",
            "2739/2739 [==============================] - 3s 1ms/step - loss: 5.4127e-04 - acc: 7.3019e-04\n",
            "Epoch 42/100\n",
            "2739/2739 [==============================] - 3s 1ms/step - loss: 5.8265e-04 - acc: 7.3019e-04\n",
            "Epoch 43/100\n",
            "2739/2739 [==============================] - 3s 1ms/step - loss: 5.9486e-04 - acc: 7.3019e-04\n",
            "Epoch 44/100\n",
            "2739/2739 [==============================] - 3s 1ms/step - loss: 6.2231e-04 - acc: 7.3019e-04\n",
            "Epoch 45/100\n",
            "2739/2739 [==============================] - 3s 1ms/step - loss: 5.8235e-04 - acc: 7.3019e-04\n",
            "Epoch 46/100\n",
            "2739/2739 [==============================] - 3s 1ms/step - loss: 6.5817e-04 - acc: 7.3019e-04\n",
            "Epoch 47/100\n",
            "2739/2739 [==============================] - 3s 1ms/step - loss: 4.7887e-04 - acc: 7.3019e-04\n",
            "Epoch 48/100\n",
            "2739/2739 [==============================] - 3s 1ms/step - loss: 6.3515e-04 - acc: 7.3019e-04\n",
            "Epoch 49/100\n",
            "2739/2739 [==============================] - 3s 1ms/step - loss: 5.7282e-04 - acc: 7.3019e-04\n",
            "Epoch 50/100\n",
            "2739/2739 [==============================] - 3s 1ms/step - loss: 5.1182e-04 - acc: 7.3019e-04\n",
            "Epoch 51/100\n",
            "2739/2739 [==============================] - 3s 1ms/step - loss: 5.7636e-04 - acc: 7.3019e-04\n",
            "Epoch 52/100\n",
            "2739/2739 [==============================] - 3s 1ms/step - loss: 5.4063e-04 - acc: 7.3019e-04\n",
            "Epoch 53/100\n",
            "2739/2739 [==============================] - 3s 1ms/step - loss: 5.7247e-04 - acc: 7.3019e-04\n",
            "Epoch 54/100\n",
            "2739/2739 [==============================] - 3s 1ms/step - loss: 5.3810e-04 - acc: 7.3019e-04\n",
            "Epoch 55/100\n",
            "2739/2739 [==============================] - 3s 1ms/step - loss: 5.2825e-04 - acc: 7.3019e-04\n",
            "Epoch 56/100\n",
            "2739/2739 [==============================] - 3s 1ms/step - loss: 5.2975e-04 - acc: 7.3019e-04\n",
            "Epoch 57/100\n",
            "2739/2739 [==============================] - 3s 1ms/step - loss: 5.2238e-04 - acc: 7.3019e-04\n",
            "Epoch 58/100\n",
            "2739/2739 [==============================] - 3s 1ms/step - loss: 5.4560e-04 - acc: 7.3019e-04\n",
            "Epoch 59/100\n",
            "2739/2739 [==============================] - 3s 1ms/step - loss: 4.6929e-04 - acc: 7.3019e-04\n",
            "Epoch 60/100\n",
            "2739/2739 [==============================] - 3s 1ms/step - loss: 5.1874e-04 - acc: 7.3019e-04\n",
            "Epoch 61/100\n",
            "2739/2739 [==============================] - 3s 1ms/step - loss: 5.0239e-04 - acc: 7.3019e-04\n",
            "Epoch 62/100\n",
            "2739/2739 [==============================] - 3s 1ms/step - loss: 4.9505e-04 - acc: 7.3019e-04\n",
            "Epoch 63/100\n",
            "2739/2739 [==============================] - 3s 1ms/step - loss: 4.7973e-04 - acc: 7.3019e-04\n",
            "Epoch 64/100\n",
            "2739/2739 [==============================] - 3s 1ms/step - loss: 5.7450e-04 - acc: 7.3019e-04\n",
            "Epoch 65/100\n",
            "2739/2739 [==============================] - 3s 1ms/step - loss: 4.7138e-04 - acc: 7.3019e-04\n",
            "Epoch 66/100\n",
            "2739/2739 [==============================] - 3s 1ms/step - loss: 4.7523e-04 - acc: 7.3019e-04\n",
            "Epoch 67/100\n",
            "2739/2739 [==============================] - 3s 1ms/step - loss: 5.3225e-04 - acc: 7.3019e-04\n",
            "Epoch 68/100\n",
            "2739/2739 [==============================] - 3s 1ms/step - loss: 4.9028e-04 - acc: 7.3019e-04\n",
            "Epoch 69/100\n",
            "2739/2739 [==============================] - 3s 1ms/step - loss: 4.8297e-04 - acc: 7.3019e-04\n",
            "Epoch 70/100\n",
            "2739/2739 [==============================] - 3s 1ms/step - loss: 5.1395e-04 - acc: 7.3019e-04\n",
            "Epoch 71/100\n",
            "2739/2739 [==============================] - 3s 1ms/step - loss: 4.3679e-04 - acc: 7.3019e-04\n",
            "Epoch 72/100\n",
            "2739/2739 [==============================] - 3s 1ms/step - loss: 5.7278e-04 - acc: 7.3019e-04\n",
            "Epoch 73/100\n",
            "2739/2739 [==============================] - 3s 1ms/step - loss: 5.0967e-04 - acc: 7.3019e-04\n",
            "Epoch 74/100\n",
            "2739/2739 [==============================] - 3s 1ms/step - loss: 4.7740e-04 - acc: 7.3019e-04\n",
            "Epoch 75/100\n",
            "2739/2739 [==============================] - 3s 1ms/step - loss: 5.0193e-04 - acc: 7.3019e-04\n",
            "Epoch 76/100\n",
            "2739/2739 [==============================] - 3s 1ms/step - loss: 4.9557e-04 - acc: 7.3019e-04\n",
            "Epoch 77/100\n",
            "2739/2739 [==============================] - 3s 1ms/step - loss: 5.0039e-04 - acc: 7.3019e-04\n",
            "Epoch 78/100\n",
            "2739/2739 [==============================] - 3s 1ms/step - loss: 4.5046e-04 - acc: 7.3019e-04\n",
            "Epoch 79/100\n",
            "2739/2739 [==============================] - 3s 1ms/step - loss: 5.1722e-04 - acc: 7.3019e-04\n",
            "Epoch 80/100\n",
            "2739/2739 [==============================] - 3s 1ms/step - loss: 5.1137e-04 - acc: 7.3019e-04\n",
            "Epoch 81/100\n",
            "2739/2739 [==============================] - 3s 1ms/step - loss: 5.4183e-04 - acc: 7.3019e-04\n",
            "Epoch 82/100\n",
            "2739/2739 [==============================] - 3s 1ms/step - loss: 4.7841e-04 - acc: 7.3019e-04\n",
            "Epoch 83/100\n",
            "2739/2739 [==============================] - 3s 1ms/step - loss: 4.3924e-04 - acc: 7.3019e-04\n",
            "Epoch 84/100\n",
            "2739/2739 [==============================] - 3s 1ms/step - loss: 4.6325e-04 - acc: 7.3019e-04\n",
            "Epoch 85/100\n",
            "2739/2739 [==============================] - 3s 1ms/step - loss: 5.1106e-04 - acc: 7.3019e-04\n",
            "Epoch 86/100\n",
            "2739/2739 [==============================] - 3s 1ms/step - loss: 5.0880e-04 - acc: 7.3019e-04\n",
            "Epoch 87/100\n",
            "2739/2739 [==============================] - 3s 1ms/step - loss: 5.1110e-04 - acc: 7.3019e-04\n",
            "Epoch 88/100\n",
            "2739/2739 [==============================] - 3s 1ms/step - loss: 5.1216e-04 - acc: 7.3019e-04\n",
            "Epoch 89/100\n",
            "2739/2739 [==============================] - 3s 1ms/step - loss: 4.8345e-04 - acc: 7.3019e-04\n",
            "Epoch 90/100\n",
            "2739/2739 [==============================] - 3s 1ms/step - loss: 4.7180e-04 - acc: 7.3019e-04\n",
            "Epoch 91/100\n",
            "2739/2739 [==============================] - 3s 1ms/step - loss: 4.7062e-04 - acc: 7.3019e-04\n",
            "Epoch 92/100\n",
            "2739/2739 [==============================] - 3s 1ms/step - loss: 5.0439e-04 - acc: 7.3019e-04\n",
            "Epoch 93/100\n",
            "2739/2739 [==============================] - 3s 1ms/step - loss: 5.1200e-04 - acc: 7.3019e-04\n",
            "Epoch 94/100\n",
            "2739/2739 [==============================] - 3s 1ms/step - loss: 5.4901e-04 - acc: 7.3019e-04\n",
            "Epoch 95/100\n",
            "2739/2739 [==============================] - 3s 1ms/step - loss: 4.7412e-04 - acc: 7.3019e-04\n",
            "Epoch 96/100\n",
            "2739/2739 [==============================] - 3s 1ms/step - loss: 4.8527e-04 - acc: 7.3019e-04\n",
            "Epoch 97/100\n",
            "2739/2739 [==============================] - 3s 1ms/step - loss: 4.2395e-04 - acc: 7.3019e-04\n",
            "Epoch 98/100\n",
            "2739/2739 [==============================] - 3s 1ms/step - loss: 4.5492e-04 - acc: 7.3019e-04\n",
            "Epoch 99/100\n",
            "2739/2739 [==============================] - 3s 1ms/step - loss: 4.8339e-04 - acc: 7.3019e-04\n",
            "Epoch 100/100\n",
            "2739/2739 [==============================] - 3s 1ms/step - loss: 4.4282e-04 - acc: 7.3019e-04\n"
          ],
          "name": "stdout"
        },
        {
          "output_type": "execute_result",
          "data": {
            "text/plain": [
              "<keras.callbacks.History at 0x7f6856680fd0>"
            ]
          },
          "metadata": {
            "tags": []
          },
          "execution_count": 25
        }
      ]
    },
    {
      "cell_type": "code",
      "metadata": {
        "id": "gKMRXHEdTK77",
        "colab_type": "code",
        "colab": {}
      },
      "source": [
        "y_pred = regressor.predict(x_test)"
      ],
      "execution_count": 0,
      "outputs": []
    },
    {
      "cell_type": "code",
      "metadata": {
        "id": "0AnioYrdVe3I",
        "colab_type": "code",
        "colab": {}
      },
      "source": [
        "output = scaler.inverse_transform(y_pred)"
      ],
      "execution_count": 0,
      "outputs": []
    },
    {
      "cell_type": "code",
      "metadata": {
        "id": "q7ceTrASVitm",
        "colab_type": "code",
        "colab": {}
      },
      "source": [
        "real_output = []\n",
        "for item in output:\n",
        "  real_output.append((item[0]))"
      ],
      "execution_count": 0,
      "outputs": []
    },
    {
      "cell_type": "code",
      "metadata": {
        "id": "A7puNaVwV-Tq",
        "colab_type": "code",
        "colab": {}
      },
      "source": [
        "actual_output = []\n",
        "for item in result['Adj. Close']:\n",
        "  actual_output.append((item))"
      ],
      "execution_count": 0,
      "outputs": []
    },
    {
      "cell_type": "code",
      "metadata": {
        "id": "XzJJV9uLWD-u",
        "colab_type": "code",
        "colab": {}
      },
      "source": [
        "from sklearn.metrics import mean_squared_error"
      ],
      "execution_count": 0,
      "outputs": []
    },
    {
      "cell_type": "code",
      "metadata": {
        "id": "GPzOODgNkcvO",
        "colab_type": "code",
        "colab": {}
      },
      "source": [
        "mse = mean_squared_error(actual_output,real_output)"
      ],
      "execution_count": 0,
      "outputs": []
    },
    {
      "cell_type": "code",
      "metadata": {
        "id": "7aTy0jIbkmoT",
        "colab_type": "code",
        "colab": {
          "base_uri": "https://localhost:8080/",
          "height": 35
        },
        "outputId": "88f882c4-9fc8-466f-e656-26f71f1202aa"
      },
      "source": [
        "mse"
      ],
      "execution_count": 44,
      "outputs": [
        {
          "output_type": "execute_result",
          "data": {
            "text/plain": [
              "81.42894005966636"
            ]
          },
          "metadata": {
            "tags": []
          },
          "execution_count": 44
        }
      ]
    },
    {
      "cell_type": "code",
      "metadata": {
        "id": "aLlVMX55knuB",
        "colab_type": "code",
        "colab": {
          "base_uri": "https://localhost:8080/",
          "height": 145
        },
        "outputId": "b964d83d-ac55-4b37-fe2c-e49bea350f88"
      },
      "source": [
        "result['predited value'] = np.array(real_output)"
      ],
      "execution_count": 45,
      "outputs": [
        {
          "output_type": "stream",
          "text": [
            "/usr/local/lib/python3.6/dist-packages/ipykernel_launcher.py:1: SettingWithCopyWarning: \n",
            "A value is trying to be set on a copy of a slice from a DataFrame.\n",
            "Try using .loc[row_indexer,col_indexer] = value instead\n",
            "\n",
            "See the caveats in the documentation: http://pandas.pydata.org/pandas-docs/stable/indexing.html#indexing-view-versus-copy\n",
            "  \"\"\"Entry point for launching an IPython kernel.\n"
          ],
          "name": "stderr"
        }
      ]
    },
    {
      "cell_type": "code",
      "metadata": {
        "id": "fR2pyq54lRC4",
        "colab_type": "code",
        "colab": {
          "base_uri": "https://localhost:8080/",
          "height": 2023
        },
        "outputId": "54442156-dc13-48d4-8101-a5fe75996c88"
      },
      "source": [
        "result"
      ],
      "execution_count": 48,
      "outputs": [
        {
          "output_type": "execute_result",
          "data": {
            "text/html": [
              "<div>\n",
              "<style scoped>\n",
              "    .dataframe tbody tr th:only-of-type {\n",
              "        vertical-align: middle;\n",
              "    }\n",
              "\n",
              "    .dataframe tbody tr th {\n",
              "        vertical-align: top;\n",
              "    }\n",
              "\n",
              "    .dataframe thead th {\n",
              "        text-align: right;\n",
              "    }\n",
              "</style>\n",
              "<table border=\"1\" class=\"dataframe\">\n",
              "  <thead>\n",
              "    <tr style=\"text-align: right;\">\n",
              "      <th></th>\n",
              "      <th>Adj. Close</th>\n",
              "      <th>predited value</th>\n",
              "    </tr>\n",
              "    <tr>\n",
              "      <th>Date</th>\n",
              "      <th></th>\n",
              "      <th></th>\n",
              "    </tr>\n",
              "  </thead>\n",
              "  <tbody>\n",
              "    <tr>\n",
              "      <th>2013-05-30</th>\n",
              "      <td>436.728138</td>\n",
              "      <td>428.708923</td>\n",
              "    </tr>\n",
              "    <tr>\n",
              "      <th>2011-12-29</th>\n",
              "      <td>322.194584</td>\n",
              "      <td>315.425232</td>\n",
              "    </tr>\n",
              "    <tr>\n",
              "      <th>2006-12-29</th>\n",
              "      <td>230.952930</td>\n",
              "      <td>229.817062</td>\n",
              "    </tr>\n",
              "    <tr>\n",
              "      <th>2016-04-07</th>\n",
              "      <td>760.120000</td>\n",
              "      <td>751.827332</td>\n",
              "    </tr>\n",
              "    <tr>\n",
              "      <th>2013-12-12</th>\n",
              "      <td>536.636546</td>\n",
              "      <td>529.710571</td>\n",
              "    </tr>\n",
              "    <tr>\n",
              "      <th>2011-05-04</th>\n",
              "      <td>268.724527</td>\n",
              "      <td>265.116699</td>\n",
              "    </tr>\n",
              "    <tr>\n",
              "      <th>2015-06-18</th>\n",
              "      <td>556.180000</td>\n",
              "      <td>540.505371</td>\n",
              "    </tr>\n",
              "    <tr>\n",
              "      <th>2015-04-14</th>\n",
              "      <td>539.780000</td>\n",
              "      <td>530.906616</td>\n",
              "    </tr>\n",
              "    <tr>\n",
              "      <th>2005-10-27</th>\n",
              "      <td>177.076619</td>\n",
              "      <td>179.123184</td>\n",
              "    </tr>\n",
              "    <tr>\n",
              "      <th>2011-08-29</th>\n",
              "      <td>270.374621</td>\n",
              "      <td>265.415039</td>\n",
              "    </tr>\n",
              "    <tr>\n",
              "      <th>2018-03-15</th>\n",
              "      <td>1150.610000</td>\n",
              "      <td>1124.407959</td>\n",
              "    </tr>\n",
              "    <tr>\n",
              "      <th>2014-04-14</th>\n",
              "      <td>545.200000</td>\n",
              "      <td>534.631653</td>\n",
              "    </tr>\n",
              "    <tr>\n",
              "      <th>2017-05-25</th>\n",
              "      <td>991.860000</td>\n",
              "      <td>970.006287</td>\n",
              "    </tr>\n",
              "    <tr>\n",
              "      <th>2014-06-06</th>\n",
              "      <td>566.030000</td>\n",
              "      <td>553.756836</td>\n",
              "    </tr>\n",
              "    <tr>\n",
              "      <th>2014-09-02</th>\n",
              "      <td>588.630000</td>\n",
              "      <td>573.900452</td>\n",
              "    </tr>\n",
              "    <tr>\n",
              "      <th>2014-05-08</th>\n",
              "      <td>520.170000</td>\n",
              "      <td>508.548981</td>\n",
              "    </tr>\n",
              "    <tr>\n",
              "      <th>2005-11-17</th>\n",
              "      <td>202.349634</td>\n",
              "      <td>201.407394</td>\n",
              "    </tr>\n",
              "    <tr>\n",
              "      <th>2005-02-24</th>\n",
              "      <td>94.737445</td>\n",
              "      <td>100.734177</td>\n",
              "    </tr>\n",
              "    <tr>\n",
              "      <th>2011-11-10</th>\n",
              "      <td>298.461322</td>\n",
              "      <td>296.106293</td>\n",
              "    </tr>\n",
              "    <tr>\n",
              "      <th>2017-08-29</th>\n",
              "      <td>935.750000</td>\n",
              "      <td>913.596558</td>\n",
              "    </tr>\n",
              "    <tr>\n",
              "      <th>2004-11-01</th>\n",
              "      <td>98.318500</td>\n",
              "      <td>104.662651</td>\n",
              "    </tr>\n",
              "    <tr>\n",
              "      <th>2006-08-25</th>\n",
              "      <td>187.207893</td>\n",
              "      <td>188.035263</td>\n",
              "    </tr>\n",
              "    <tr>\n",
              "      <th>2014-06-13</th>\n",
              "      <td>560.350000</td>\n",
              "      <td>546.635559</td>\n",
              "    </tr>\n",
              "    <tr>\n",
              "      <th>2008-04-01</th>\n",
              "      <td>233.576027</td>\n",
              "      <td>227.127487</td>\n",
              "    </tr>\n",
              "    <tr>\n",
              "      <th>2010-08-11</th>\n",
              "      <td>246.631327</td>\n",
              "      <td>245.604980</td>\n",
              "    </tr>\n",
              "    <tr>\n",
              "      <th>2006-02-02</th>\n",
              "      <td>198.633162</td>\n",
              "      <td>200.997772</td>\n",
              "    </tr>\n",
              "    <tr>\n",
              "      <th>2010-03-22</th>\n",
              "      <td>279.613139</td>\n",
              "      <td>276.384521</td>\n",
              "    </tr>\n",
              "    <tr>\n",
              "      <th>2005-02-23</th>\n",
              "      <td>97.275279</td>\n",
              "      <td>103.637611</td>\n",
              "    </tr>\n",
              "    <tr>\n",
              "      <th>2010-06-03</th>\n",
              "      <td>253.582786</td>\n",
              "      <td>248.306931</td>\n",
              "    </tr>\n",
              "    <tr>\n",
              "      <th>2006-05-25</th>\n",
              "      <td>192.087957</td>\n",
              "      <td>190.509720</td>\n",
              "    </tr>\n",
              "    <tr>\n",
              "      <th>...</th>\n",
              "      <td>...</td>\n",
              "      <td>...</td>\n",
              "    </tr>\n",
              "    <tr>\n",
              "      <th>2005-11-14</th>\n",
              "      <td>199.099601</td>\n",
              "      <td>197.940216</td>\n",
              "    </tr>\n",
              "    <tr>\n",
              "      <th>2011-08-30</th>\n",
              "      <td>271.187129</td>\n",
              "      <td>266.111633</td>\n",
              "    </tr>\n",
              "    <tr>\n",
              "      <th>2017-02-14</th>\n",
              "      <td>840.030000</td>\n",
              "      <td>826.867920</td>\n",
              "    </tr>\n",
              "    <tr>\n",
              "      <th>2011-03-01</th>\n",
              "      <td>301.310115</td>\n",
              "      <td>301.102539</td>\n",
              "    </tr>\n",
              "    <tr>\n",
              "      <th>2016-02-24</th>\n",
              "      <td>720.900000</td>\n",
              "      <td>700.476013</td>\n",
              "    </tr>\n",
              "    <tr>\n",
              "      <th>2017-05-26</th>\n",
              "      <td>993.270000</td>\n",
              "      <td>976.268066</td>\n",
              "    </tr>\n",
              "    <tr>\n",
              "      <th>2010-10-12</th>\n",
              "      <td>271.533197</td>\n",
              "      <td>267.837921</td>\n",
              "    </tr>\n",
              "    <tr>\n",
              "      <th>2017-06-26</th>\n",
              "      <td>972.090000</td>\n",
              "      <td>967.730347</td>\n",
              "    </tr>\n",
              "    <tr>\n",
              "      <th>2009-02-12</th>\n",
              "      <td>182.087085</td>\n",
              "      <td>180.485275</td>\n",
              "    </tr>\n",
              "    <tr>\n",
              "      <th>2009-05-29</th>\n",
              "      <td>209.260969</td>\n",
              "      <td>207.133072</td>\n",
              "    </tr>\n",
              "    <tr>\n",
              "      <th>2012-06-20</th>\n",
              "      <td>289.649119</td>\n",
              "      <td>285.208374</td>\n",
              "    </tr>\n",
              "    <tr>\n",
              "      <th>2014-07-31</th>\n",
              "      <td>579.550000</td>\n",
              "      <td>573.840637</td>\n",
              "    </tr>\n",
              "    <tr>\n",
              "      <th>2008-01-10</th>\n",
              "      <td>324.366288</td>\n",
              "      <td>319.153534</td>\n",
              "    </tr>\n",
              "    <tr>\n",
              "      <th>2014-10-23</th>\n",
              "      <td>553.650000</td>\n",
              "      <td>539.567078</td>\n",
              "    </tr>\n",
              "    <tr>\n",
              "      <th>2005-08-24</th>\n",
              "      <td>141.722484</td>\n",
              "      <td>144.370163</td>\n",
              "    </tr>\n",
              "    <tr>\n",
              "      <th>2008-12-29</th>\n",
              "      <td>149.170475</td>\n",
              "      <td>152.345673</td>\n",
              "    </tr>\n",
              "    <tr>\n",
              "      <th>2012-08-15</th>\n",
              "      <td>334.803506</td>\n",
              "      <td>329.599976</td>\n",
              "    </tr>\n",
              "    <tr>\n",
              "      <th>2005-11-16</th>\n",
              "      <td>199.691428</td>\n",
              "      <td>198.909775</td>\n",
              "    </tr>\n",
              "    <tr>\n",
              "      <th>2015-11-12</th>\n",
              "      <td>756.530000</td>\n",
              "      <td>748.608704</td>\n",
              "    </tr>\n",
              "    <tr>\n",
              "      <th>2013-10-23</th>\n",
              "      <td>517.301861</td>\n",
              "      <td>499.375000</td>\n",
              "    </tr>\n",
              "    <tr>\n",
              "      <th>2005-05-25</th>\n",
              "      <td>130.808794</td>\n",
              "      <td>133.087936</td>\n",
              "    </tr>\n",
              "    <tr>\n",
              "      <th>2007-01-19</th>\n",
              "      <td>245.633246</td>\n",
              "      <td>242.585663</td>\n",
              "    </tr>\n",
              "    <tr>\n",
              "      <th>2004-12-16</th>\n",
              "      <td>88.508216</td>\n",
              "      <td>96.917374</td>\n",
              "    </tr>\n",
              "    <tr>\n",
              "      <th>2017-07-24</th>\n",
              "      <td>998.310000</td>\n",
              "      <td>981.444153</td>\n",
              "    </tr>\n",
              "    <tr>\n",
              "      <th>2015-10-01</th>\n",
              "      <td>642.000000</td>\n",
              "      <td>626.340210</td>\n",
              "    </tr>\n",
              "    <tr>\n",
              "      <th>2009-05-13</th>\n",
              "      <td>195.373098</td>\n",
              "      <td>196.866348</td>\n",
              "    </tr>\n",
              "    <tr>\n",
              "      <th>2011-09-30</th>\n",
              "      <td>258.317401</td>\n",
              "      <td>257.034088</td>\n",
              "    </tr>\n",
              "    <tr>\n",
              "      <th>2010-01-19</th>\n",
              "      <td>294.719772</td>\n",
              "      <td>288.140289</td>\n",
              "    </tr>\n",
              "    <tr>\n",
              "      <th>2005-05-02</th>\n",
              "      <td>111.489156</td>\n",
              "      <td>117.337494</td>\n",
              "    </tr>\n",
              "    <tr>\n",
              "      <th>2009-04-17</th>\n",
              "      <td>196.727278</td>\n",
              "      <td>196.258987</td>\n",
              "    </tr>\n",
              "  </tbody>\n",
              "</table>\n",
              "<p>685 rows × 2 columns</p>\n",
              "</div>"
            ],
            "text/plain": [
              "             Adj. Close  predited value\n",
              "Date                                   \n",
              "2013-05-30   436.728138      428.708923\n",
              "2011-12-29   322.194584      315.425232\n",
              "2006-12-29   230.952930      229.817062\n",
              "2016-04-07   760.120000      751.827332\n",
              "2013-12-12   536.636546      529.710571\n",
              "2011-05-04   268.724527      265.116699\n",
              "2015-06-18   556.180000      540.505371\n",
              "2015-04-14   539.780000      530.906616\n",
              "2005-10-27   177.076619      179.123184\n",
              "2011-08-29   270.374621      265.415039\n",
              "2018-03-15  1150.610000     1124.407959\n",
              "2014-04-14   545.200000      534.631653\n",
              "2017-05-25   991.860000      970.006287\n",
              "2014-06-06   566.030000      553.756836\n",
              "2014-09-02   588.630000      573.900452\n",
              "2014-05-08   520.170000      508.548981\n",
              "2005-11-17   202.349634      201.407394\n",
              "2005-02-24    94.737445      100.734177\n",
              "2011-11-10   298.461322      296.106293\n",
              "2017-08-29   935.750000      913.596558\n",
              "2004-11-01    98.318500      104.662651\n",
              "2006-08-25   187.207893      188.035263\n",
              "2014-06-13   560.350000      546.635559\n",
              "2008-04-01   233.576027      227.127487\n",
              "2010-08-11   246.631327      245.604980\n",
              "2006-02-02   198.633162      200.997772\n",
              "2010-03-22   279.613139      276.384521\n",
              "2005-02-23    97.275279      103.637611\n",
              "2010-06-03   253.582786      248.306931\n",
              "2006-05-25   192.087957      190.509720\n",
              "...                 ...             ...\n",
              "2005-11-14   199.099601      197.940216\n",
              "2011-08-30   271.187129      266.111633\n",
              "2017-02-14   840.030000      826.867920\n",
              "2011-03-01   301.310115      301.102539\n",
              "2016-02-24   720.900000      700.476013\n",
              "2017-05-26   993.270000      976.268066\n",
              "2010-10-12   271.533197      267.837921\n",
              "2017-06-26   972.090000      967.730347\n",
              "2009-02-12   182.087085      180.485275\n",
              "2009-05-29   209.260969      207.133072\n",
              "2012-06-20   289.649119      285.208374\n",
              "2014-07-31   579.550000      573.840637\n",
              "2008-01-10   324.366288      319.153534\n",
              "2014-10-23   553.650000      539.567078\n",
              "2005-08-24   141.722484      144.370163\n",
              "2008-12-29   149.170475      152.345673\n",
              "2012-08-15   334.803506      329.599976\n",
              "2005-11-16   199.691428      198.909775\n",
              "2015-11-12   756.530000      748.608704\n",
              "2013-10-23   517.301861      499.375000\n",
              "2005-05-25   130.808794      133.087936\n",
              "2007-01-19   245.633246      242.585663\n",
              "2004-12-16    88.508216       96.917374\n",
              "2017-07-24   998.310000      981.444153\n",
              "2015-10-01   642.000000      626.340210\n",
              "2009-05-13   195.373098      196.866348\n",
              "2011-09-30   258.317401      257.034088\n",
              "2010-01-19   294.719772      288.140289\n",
              "2005-05-02   111.489156      117.337494\n",
              "2009-04-17   196.727278      196.258987\n",
              "\n",
              "[685 rows x 2 columns]"
            ]
          },
          "metadata": {
            "tags": []
          },
          "execution_count": 48
        }
      ]
    },
    {
      "cell_type": "code",
      "metadata": {
        "id": "tPhBtBFSlS7m",
        "colab_type": "code",
        "colab": {
          "base_uri": "https://localhost:8080/",
          "height": 1094
        },
        "outputId": "2b515b19-adb3-4a2a-f954-9a44e691e342"
      },
      "source": [
        "import matplotlib.pyplot as plt\n",
        "plt.rcParams[\"figure.figsize\"] = (20,20)\n",
        "result.plot()"
      ],
      "execution_count": 52,
      "outputs": [
        {
          "output_type": "execute_result",
          "data": {
            "text/plain": [
              "<matplotlib.axes._subplots.AxesSubplot at 0x7f684a27f240>"
            ]
          },
          "metadata": {
            "tags": []
          },
          "execution_count": 52
        },
        {
          "output_type": "display_data",
          "data": {
            "image/png": "[encoded data removed]",
            "text/plain": [
              "<Figure size 1440x1440 with 1 Axes>"
            ]
          },
          "metadata": {
            "tags": []
          }
        }
      ]
    },
    {
      "cell_type": "code",
      "metadata": {
        "id": "M2yZwhYjlqZv",
        "colab_type": "code",
        "colab": {}
      },
      "source": [
        ""
      ],
      "execution_count": 0,
      "outputs": []
    }
  ]
}