{
 "cells": [
  {
   "cell_type": "code",
   "execution_count": 1,
   "metadata": {},
   "outputs": [],
   "source": [
    "data <- read.csv('bank.csv')"
   ]
  },
  {
   "cell_type": "code",
   "execution_count": 2,
   "metadata": {},
   "outputs": [
    {
     "data": {
      "text/html": [
       "<table>\n",
       "<thead><tr><th scope=col>age</th><th scope=col>job</th><th scope=col>marital</th><th scope=col>education</th><th scope=col>default</th><th scope=col>balance</th><th scope=col>housing</th><th scope=col>loan</th><th scope=col>contact</th><th scope=col>day</th><th scope=col>month</th><th scope=col>duration</th><th scope=col>campaign</th><th scope=col>pdays</th><th scope=col>previous</th><th scope=col>poutcome</th><th scope=col>deposit</th></tr></thead>\n",
       "<tbody>\n",
       "\t<tr><td>59        </td><td>admin.    </td><td>married   </td><td>secondary </td><td>no        </td><td>2343      </td><td>yes       </td><td>no        </td><td>unknown   </td><td>5         </td><td>may       </td><td>1042      </td><td>1         </td><td>-1        </td><td>0         </td><td>unknown   </td><td>yes       </td></tr>\n",
       "\t<tr><td>56        </td><td>admin.    </td><td>married   </td><td>secondary </td><td>no        </td><td>  45      </td><td>no        </td><td>no        </td><td>unknown   </td><td>5         </td><td>may       </td><td>1467      </td><td>1         </td><td>-1        </td><td>0         </td><td>unknown   </td><td>yes       </td></tr>\n",
       "\t<tr><td>41        </td><td>technician</td><td>married   </td><td>secondary </td><td>no        </td><td>1270      </td><td>yes       </td><td>no        </td><td>unknown   </td><td>5         </td><td>may       </td><td>1389      </td><td>1         </td><td>-1        </td><td>0         </td><td>unknown   </td><td>yes       </td></tr>\n",
       "\t<tr><td>55        </td><td>services  </td><td>married   </td><td>secondary </td><td>no        </td><td>2476      </td><td>yes       </td><td>no        </td><td>unknown   </td><td>5         </td><td>may       </td><td> 579      </td><td>1         </td><td>-1        </td><td>0         </td><td>unknown   </td><td>yes       </td></tr>\n",
       "\t<tr><td>54        </td><td>admin.    </td><td>married   </td><td>tertiary  </td><td>no        </td><td> 184      </td><td>no        </td><td>no        </td><td>unknown   </td><td>5         </td><td>may       </td><td> 673      </td><td>2         </td><td>-1        </td><td>0         </td><td>unknown   </td><td>yes       </td></tr>\n",
       "\t<tr><td>42        </td><td>management</td><td>single    </td><td>tertiary  </td><td>no        </td><td>   0      </td><td>yes       </td><td>yes       </td><td>unknown   </td><td>5         </td><td>may       </td><td> 562      </td><td>2         </td><td>-1        </td><td>0         </td><td>unknown   </td><td>yes       </td></tr>\n",
       "</tbody>\n",
       "</table>\n"
      ],
      "text/latex": [
       "\\begin{tabular}{r|lllllllllllllllll}\n",
       " age & job & marital & education & default & balance & housing & loan & contact & day & month & duration & campaign & pdays & previous & poutcome & deposit\\\\\n",
       "\\hline\n",
       "\t 59         & admin.     & married    & secondary  & no         & 2343       & yes        & no         & unknown    & 5          & may        & 1042       & 1          & -1         & 0          & unknown    & yes       \\\\\n",
       "\t 56         & admin.     & married    & secondary  & no         &   45       & no         & no         & unknown    & 5          & may        & 1467       & 1          & -1         & 0          & unknown    & yes       \\\\\n",
       "\t 41         & technician & married    & secondary  & no         & 1270       & yes        & no         & unknown    & 5          & may        & 1389       & 1          & -1         & 0          & unknown    & yes       \\\\\n",
       "\t 55         & services   & married    & secondary  & no         & 2476       & yes        & no         & unknown    & 5          & may        &  579       & 1          & -1         & 0          & unknown    & yes       \\\\\n",
       "\t 54         & admin.     & married    & tertiary   & no         &  184       & no         & no         & unknown    & 5          & may        &  673       & 2          & -1         & 0          & unknown    & yes       \\\\\n",
       "\t 42         & management & single     & tertiary   & no         &    0       & yes        & yes        & unknown    & 5          & may        &  562       & 2          & -1         & 0          & unknown    & yes       \\\\\n",
       "\\end{tabular}\n"
      ],
      "text/markdown": [
       "\n",
       "| age | job | marital | education | default | balance | housing | loan | contact | day | month | duration | campaign | pdays | previous | poutcome | deposit |\n",
       "|---|---|---|---|---|---|---|---|---|---|---|---|---|---|---|---|---|\n",
       "| 59         | admin.     | married    | secondary  | no         | 2343       | yes        | no         | unknown    | 5          | may        | 1042       | 1          | -1         | 0          | unknown    | yes        |\n",
       "| 56         | admin.     | married    | secondary  | no         |   45       | no         | no         | unknown    | 5          | may        | 1467       | 1          | -1         | 0          | unknown    | yes        |\n",
       "| 41         | technician | married    | secondary  | no         | 1270       | yes        | no         | unknown    | 5          | may        | 1389       | 1          | -1         | 0          | unknown    | yes        |\n",
       "| 55         | services   | married    | secondary  | no         | 2476       | yes        | no         | unknown    | 5          | may        |  579       | 1          | -1         | 0          | unknown    | yes        |\n",
       "| 54         | admin.     | married    | tertiary   | no         |  184       | no         | no         | unknown    | 5          | may        |  673       | 2          | -1         | 0          | unknown    | yes        |\n",
       "| 42         | management | single     | tertiary   | no         |    0       | yes        | yes        | unknown    | 5          | may        |  562       | 2          | -1         | 0          | unknown    | yes        |\n",
       "\n"
      ],
      "text/plain": [
       "  age job        marital education default balance housing loan contact day\n",
       "1 59  admin.     married secondary no      2343    yes     no   unknown 5  \n",
       "2 56  admin.     married secondary no        45    no      no   unknown 5  \n",
       "3 41  technician married secondary no      1270    yes     no   unknown 5  \n",
       "4 55  services   married secondary no      2476    yes     no   unknown 5  \n",
       "5 54  admin.     married tertiary  no       184    no      no   unknown 5  \n",
       "6 42  management single  tertiary  no         0    yes     yes  unknown 5  \n",
       "  month duration campaign pdays previous poutcome deposit\n",
       "1 may   1042     1        -1    0        unknown  yes    \n",
       "2 may   1467     1        -1    0        unknown  yes    \n",
       "3 may   1389     1        -1    0        unknown  yes    \n",
       "4 may    579     1        -1    0        unknown  yes    \n",
       "5 may    673     2        -1    0        unknown  yes    \n",
       "6 may    562     2        -1    0        unknown  yes    "
      ]
     },
     "metadata": {},
     "output_type": "display_data"
    }
   ],
   "source": [
    "head(data)"
   ]
  },
  {
   "cell_type": "code",
   "execution_count": 3,
   "metadata": {},
   "outputs": [
    {
     "data": {
      "text/plain": [
       "\n",
       "  primary secondary  tertiary   unknown \n",
       "     1500      5476      3689       497 "
      ]
     },
     "metadata": {},
     "output_type": "display_data"
    }
   ],
   "source": [
    "table(data$education)"
   ]
  },
  {
   "cell_type": "code",
   "execution_count": 4,
   "metadata": {},
   "outputs": [
    {
     "data": {
      "image/png": "[encoded data removed]",
      "text/plain": [
       "plot without title"
      ]
     },
     "metadata": {},
     "output_type": "display_data"
    }
   ],
   "source": [
    "barplot(table(data$education))"
   ]
  },
  {
   "cell_type": "code",
   "execution_count": 5,
   "metadata": {},
   "outputs": [],
   "source": [
    "## most of them has  a secondary eduction"
   ]
  },
  {
   "cell_type": "code",
   "execution_count": 6,
   "metadata": {},
   "outputs": [
    {
     "data": {
      "image/png": "[encoded data removed]",
      "text/plain": [
       "plot without title"
      ]
     },
     "metadata": {},
     "output_type": "display_data"
    }
   ],
   "source": [
    "barplot(table(data$job))"
   ]
  },
  {
   "cell_type": "code",
   "execution_count": 7,
   "metadata": {},
   "outputs": [
    {
     "data": {
      "text/plain": [
       "\n",
       "       admin.   blue-collar  entrepreneur     housemaid    management \n",
       "         1334          1944           328           274          2566 \n",
       "      retired self-employed      services       student    technician \n",
       "          778           405           923           360          1823 \n",
       "   unemployed       unknown \n",
       "          357            70 "
      ]
     },
     "metadata": {},
     "output_type": "display_data"
    }
   ],
   "source": [
    "table(data$job)"
   ]
  },
  {
   "cell_type": "code",
   "execution_count": 8,
   "metadata": {},
   "outputs": [],
   "source": [
    "total_relation=aggregate(education ~ .,data=data,FUN=length)"
   ]
  },
  {
   "cell_type": "code",
   "execution_count": 9,
   "metadata": {},
   "outputs": [],
   "source": [
    "total_relation2=aggregate(education~ job+marital+balance+housing+loan+duration+pdays+education,data=data,FUN =length)"
   ]
  },
  {
   "cell_type": "code",
   "execution_count": 10,
   "metadata": {},
   "outputs": [
    {
     "data": {
      "text/html": [
       "<table>\n",
       "<thead><tr><th scope=col>job</th><th scope=col>marital</th><th scope=col>balance</th><th scope=col>housing</th><th scope=col>loan</th><th scope=col>duration</th><th scope=col>pdays</th><th scope=col>education</th></tr></thead>\n",
       "<tbody>\n",
       "\t<tr><td>blue-collar  </td><td>married      </td><td>  871        </td><td>yes          </td><td>yes          </td><td>2            </td><td>-1           </td><td>1            </td></tr>\n",
       "\t<tr><td>blue-collar  </td><td>married      </td><td>    0        </td><td>yes          </td><td>no           </td><td>3            </td><td>-1           </td><td>1            </td></tr>\n",
       "\t<tr><td>unemployed   </td><td>single       </td><td>   93        </td><td>no           </td><td>no           </td><td>4            </td><td>-1           </td><td>1            </td></tr>\n",
       "\t<tr><td>technician   </td><td>married      </td><td>10655        </td><td>no           </td><td>no           </td><td>5            </td><td>-1           </td><td>1            </td></tr>\n",
       "\t<tr><td>self-employed</td><td>divorced     </td><td>    0        </td><td>no           </td><td>no           </td><td>6            </td><td>-1           </td><td>1            </td></tr>\n",
       "\t<tr><td>management   </td><td>single       </td><td>  760        </td><td>no           </td><td>no           </td><td>6            </td><td>-1           </td><td>1            </td></tr>\n",
       "</tbody>\n",
       "</table>\n"
      ],
      "text/latex": [
       "\\begin{tabular}{r|llllllll}\n",
       " job & marital & balance & housing & loan & duration & pdays & education\\\\\n",
       "\\hline\n",
       "\t blue-collar   & married       &   871         & yes           & yes           & 2             & -1            & 1            \\\\\n",
       "\t blue-collar   & married       &     0         & yes           & no            & 3             & -1            & 1            \\\\\n",
       "\t unemployed    & single        &    93         & no            & no            & 4             & -1            & 1            \\\\\n",
       "\t technician    & married       & 10655         & no            & no            & 5             & -1            & 1            \\\\\n",
       "\t self-employed & divorced      &     0         & no            & no            & 6             & -1            & 1            \\\\\n",
       "\t management    & single        &   760         & no            & no            & 6             & -1            & 1            \\\\\n",
       "\\end{tabular}\n"
      ],
      "text/markdown": [
       "\n",
       "| job | marital | balance | housing | loan | duration | pdays | education |\n",
       "|---|---|---|---|---|---|---|---|\n",
       "| blue-collar   | married       |   871         | yes           | yes           | 2             | -1            | 1             |\n",
       "| blue-collar   | married       |     0         | yes           | no            | 3             | -1            | 1             |\n",
       "| unemployed    | single        |    93         | no            | no            | 4             | -1            | 1             |\n",
       "| technician    | married       | 10655         | no            | no            | 5             | -1            | 1             |\n",
       "| self-employed | divorced      |     0         | no            | no            | 6             | -1            | 1             |\n",
       "| management    | single        |   760         | no            | no            | 6             | -1            | 1             |\n",
       "\n"
      ],
      "text/plain": [
       "  job           marital  balance housing loan duration pdays education\n",
       "1 blue-collar   married    871   yes     yes  2        -1    1        \n",
       "2 blue-collar   married      0   yes     no   3        -1    1        \n",
       "3 unemployed    single      93   no      no   4        -1    1        \n",
       "4 technician    married  10655   no      no   5        -1    1        \n",
       "5 self-employed divorced     0   no      no   6        -1    1        \n",
       "6 management    single     760   no      no   6        -1    1        "
      ]
     },
     "metadata": {},
     "output_type": "display_data"
    }
   ],
   "source": [
    "head(total_relation2)"
   ]
  },
  {
   "cell_type": "code",
   "execution_count": 27,
   "metadata": {},
   "outputs": [],
   "source": [
    "library('rpart')\n",
    "train = data[1:8277,]\n",
    "test = data[8278:11162,]"
   ]
  },
  {
   "cell_type": "code",
   "execution_count": 28,
   "metadata": {},
   "outputs": [],
   "source": [
    "first_tree <-rpart(education ~ .,data=train,method = 'class')"
   ]
  },
  {
   "cell_type": "code",
   "execution_count": 29,
   "metadata": {},
   "outputs": [
    {
     "data": {
      "text/plain": [
       "n= 8277 \n",
       "\n",
       "node), split, n, loss, yval, (yprob)\n",
       "      * denotes terminal node\n",
       "\n",
       "1) root 8277 4282 secondary (0.12552857 0.48266280 0.34638154 0.04542709)  \n",
       "  2) job=admin.,blue-collar,entrepreneur,housemaid,retired,services,student,technician,unemployed,unknown 6030 2298 secondary (0.16202322 0.61890547 0.16915423 0.04991708) *\n",
       "  3) job=management,self-employed 2247  400 tertiary (0.02759235 0.11704495 0.82198487 0.03337784) *"
      ]
     },
     "metadata": {},
     "output_type": "display_data"
    }
   ],
   "source": [
    "first_tree"
   ]
  },
  {
   "cell_type": "code",
   "execution_count": 31,
   "metadata": {},
   "outputs": [],
   "source": [
    "prediction=predict(first_tree,test,type = 'class')"
   ]
  },
  {
   "cell_type": "code",
   "execution_count": 33,
   "metadata": {},
   "outputs": [
    {
     "data": {
      "text/plain": [
       "prediction\n",
       "  primary secondary  tertiary   unknown \n",
       "        0      2161       724         0 "
      ]
     },
     "metadata": {},
     "output_type": "display_data"
    }
   ],
   "source": [
    "table(prediction)"
   ]
  },
  {
   "cell_type": "code",
   "execution_count": 35,
   "metadata": {},
   "outputs": [
    {
     "data": {
      "text/plain": [
       "\n",
       "  primary secondary  tertiary   unknown \n",
       "      461      1481       822       121 "
      ]
     },
     "metadata": {},
     "output_type": "display_data"
    }
   ],
   "source": [
    "table(test$education)"
   ]
  },
  {
   "cell_type": "markdown",
   "metadata": {},
   "source": []
  },
  {
   "cell_type": "code",
   "execution_count": 39,
   "metadata": {},
   "outputs": [],
   "source": [
    "## glm is for logistic regression"
   ]
  },
  {
   "cell_type": "code",
   "execution_count": 38,
   "metadata": {},
   "outputs": [],
   "source": [
    "model <- glm(education ~ .,family=binomial(link = 'logit'),data = train)"
   ]
  },
  {
   "cell_type": "code",
   "execution_count": null,
   "metadata": {},
   "outputs": [],
   "source": []
  },
  {
   "cell_type": "code",
   "execution_count": 51,
   "metadata": {},
   "outputs": [],
   "source": [
    "prediction2 <-predict(model,newdata = test,type = 'response')"
   ]
  },
  {
   "cell_type": "markdown",
   "metadata": {},
   "source": []
  },
  {
   "cell_type": "code",
   "execution_count": null,
   "metadata": {},
   "outputs": [],
   "source": []
  },
  {
   "cell_type": "code",
   "execution_count": null,
   "metadata": {},
   "outputs": [],
   "source": []
  },
  {
   "cell_type": "code",
   "execution_count": null,
   "metadata": {},
   "outputs": [],
   "source": []
  }
 ],
 "metadata": {
  "kernelspec": {
   "display_name": "R",
   "language": "R",
   "name": "ir"
  },
  "language_info": {
   "codemirror_mode": "r",
   "file_extension": ".r",
   "mimetype": "text/x-r-source",
   "name": "R",
   "pygments_lexer": "r",
   "version": "3.5.1"
  }
 },
 "nbformat": 4,
 "nbformat_minor": 2
}
