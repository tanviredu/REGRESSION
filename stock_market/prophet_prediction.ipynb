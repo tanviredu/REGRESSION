{
 "cells": [
  {
   "cell_type": "markdown",
   "metadata": {},
   "source": [
    "## we need to install first the fbprophet which is not so easy to install we need to go for dependency and also the g++ compiler"
   ]
  },
  {
   "cell_type": "code",
   "execution_count": 1,
   "metadata": {},
   "outputs": [],
   "source": [
    "#first import the required module for the prediction\n",
    "#its preeety straight forward\n",
    "import pandas as pd\n",
    "from fbprophet import Prophet"
   ]
  },
  {
   "cell_type": "code",
   "execution_count": 2,
   "metadata": {},
   "outputs": [],
   "source": [
    "## import the csv data from quandl \n",
    "import quandl\n",
    "#we take the data from the quandl website\n",
    "#create a data frame\n",
    "#df = quandl.get('WIKI/GOOGL')\n"
   ]
  },
  {
   "cell_type": "code",
   "execution_count": 3,
   "metadata": {},
   "outputs": [],
   "source": [
    "## now save the data in a csv format for further use\n",
    "#df.to_csv('google_stock.csv')\n",
    "df = pd.read_csv('google_stock.csv')"
   ]
  },
  {
   "cell_type": "code",
   "execution_count": 4,
   "metadata": {},
   "outputs": [],
   "source": [
    "## now prepare the datasets for the \n",
    "df1=df[['Adj. Open','Adj. High','Adj. Low','Adj. Close','Adj. Volume']]"
   ]
  },
  {
   "cell_type": "code",
   "execution_count": null,
   "metadata": {},
   "outputs": [],
   "source": []
  },
  {
   "cell_type": "code",
   "execution_count": 5,
   "metadata": {},
   "outputs": [
    {
     "name": "stderr",
     "output_type": "stream",
     "text": [
      "/root/anaconda2/lib/python2.7/site-packages/ipykernel_launcher.py:2: SettingWithCopyWarning: \n",
      "A value is trying to be set on a copy of a slice from a DataFrame.\n",
      "Try using .loc[row_indexer,col_indexer] = value instead\n",
      "\n",
      "See the caveats in the documentation: http://pandas.pydata.org/pandas-docs/stable/indexing.html#indexing-view-versus-copy\n",
      "  \n",
      "/root/anaconda2/lib/python2.7/site-packages/ipykernel_launcher.py:4: SettingWithCopyWarning: \n",
      "A value is trying to be set on a copy of a slice from a DataFrame.\n",
      "Try using .loc[row_indexer,col_indexer] = value instead\n",
      "\n",
      "See the caveats in the documentation: http://pandas.pydata.org/pandas-docs/stable/indexing.html#indexing-view-versus-copy\n",
      "  after removing the cwd from sys.path.\n",
      "/root/anaconda2/lib/python2.7/site-packages/ipykernel_launcher.py:5: SettingWithCopyWarning: \n",
      "A value is trying to be set on a copy of a slice from a DataFrame.\n",
      "Try using .loc[row_indexer,col_indexer] = value instead\n",
      "\n",
      "See the caveats in the documentation: http://pandas.pydata.org/pandas-docs/stable/indexing.html#indexing-view-versus-copy\n",
      "  \"\"\"\n"
     ]
    },
    {
     "data": {
      "text/html": [
       "<div>\n",
       "<style scoped>\n",
       "    .dataframe tbody tr th:only-of-type {\n",
       "        vertical-align: middle;\n",
       "    }\n",
       "\n",
       "    .dataframe tbody tr th {\n",
       "        vertical-align: top;\n",
       "    }\n",
       "\n",
       "    .dataframe thead th {\n",
       "        text-align: right;\n",
       "    }\n",
       "</style>\n",
       "<table border=\"1\" class=\"dataframe\">\n",
       "  <thead>\n",
       "    <tr style=\"text-align: right;\">\n",
       "      <th></th>\n",
       "      <th>Adj. Open</th>\n",
       "      <th>Adj. High</th>\n",
       "      <th>Adj. Low</th>\n",
       "      <th>Adj. Close</th>\n",
       "      <th>Adj. Volume</th>\n",
       "      <th>volatility</th>\n",
       "      <th>PCT_Change</th>\n",
       "      <th>Date</th>\n",
       "    </tr>\n",
       "  </thead>\n",
       "  <tbody>\n",
       "    <tr>\n",
       "      <th>0</th>\n",
       "      <td>50.159839</td>\n",
       "      <td>52.191109</td>\n",
       "      <td>48.128568</td>\n",
       "      <td>50.322842</td>\n",
       "      <td>44659000.0</td>\n",
       "      <td>0.037126</td>\n",
       "      <td>0.003250</td>\n",
       "      <td>2004-08-19</td>\n",
       "    </tr>\n",
       "    <tr>\n",
       "      <th>1</th>\n",
       "      <td>50.661387</td>\n",
       "      <td>54.708881</td>\n",
       "      <td>50.405597</td>\n",
       "      <td>54.322689</td>\n",
       "      <td>22834300.0</td>\n",
       "      <td>0.007109</td>\n",
       "      <td>0.072270</td>\n",
       "      <td>2004-08-20</td>\n",
       "    </tr>\n",
       "    <tr>\n",
       "      <th>2</th>\n",
       "      <td>55.551482</td>\n",
       "      <td>56.915693</td>\n",
       "      <td>54.693835</td>\n",
       "      <td>54.869377</td>\n",
       "      <td>18256100.0</td>\n",
       "      <td>0.037294</td>\n",
       "      <td>-0.012279</td>\n",
       "      <td>2004-08-23</td>\n",
       "    </tr>\n",
       "    <tr>\n",
       "      <th>3</th>\n",
       "      <td>55.792225</td>\n",
       "      <td>55.972783</td>\n",
       "      <td>51.945350</td>\n",
       "      <td>52.597363</td>\n",
       "      <td>15247300.0</td>\n",
       "      <td>0.064175</td>\n",
       "      <td>-0.057264</td>\n",
       "      <td>2004-08-24</td>\n",
       "    </tr>\n",
       "    <tr>\n",
       "      <th>4</th>\n",
       "      <td>52.542193</td>\n",
       "      <td>54.167209</td>\n",
       "      <td>52.100830</td>\n",
       "      <td>53.164113</td>\n",
       "      <td>9188600.0</td>\n",
       "      <td>0.018868</td>\n",
       "      <td>0.011837</td>\n",
       "      <td>2004-08-25</td>\n",
       "    </tr>\n",
       "  </tbody>\n",
       "</table>\n",
       "</div>"
      ],
      "text/plain": [
       "   Adj. Open  Adj. High   Adj. Low  Adj. Close  Adj. Volume  volatility  \\\n",
       "0  50.159839  52.191109  48.128568   50.322842   44659000.0    0.037126   \n",
       "1  50.661387  54.708881  50.405597   54.322689   22834300.0    0.007109   \n",
       "2  55.551482  56.915693  54.693835   54.869377   18256100.0    0.037294   \n",
       "3  55.792225  55.972783  51.945350   52.597363   15247300.0    0.064175   \n",
       "4  52.542193  54.167209  52.100830   53.164113    9188600.0    0.018868   \n",
       "\n",
       "   PCT_Change        Date  \n",
       "0    0.003250  2004-08-19  \n",
       "1    0.072270  2004-08-20  \n",
       "2   -0.012279  2004-08-23  \n",
       "3   -0.057264  2004-08-24  \n",
       "4    0.011837  2004-08-25  "
      ]
     },
     "execution_count": 5,
     "metadata": {},
     "output_type": "execute_result"
    }
   ],
   "source": [
    "## we need to add the percent volatility which is an important feture\n",
    "df1['volatility']=(df1['Adj. High']-df1['Adj. Close'])/df1['Adj. Close']\n",
    "## and we need to add the percent change for the stock market\n",
    "df1['PCT_Change']=(df1['Adj. Close']-df1['Adj. Open'])/df1['Adj. Open']\n",
    "df1['Date']=df['Date']\n",
    "df1.head()"
   ]
  },
  {
   "cell_type": "markdown",
   "metadata": {},
   "source": [
    "## final datasets\n"
   ]
  },
  {
   "cell_type": "code",
   "execution_count": 6,
   "metadata": {},
   "outputs": [],
   "source": [
    "df1=df1[['Date','Adj. Close','volatility','PCT_Change','Adj. Open','Adj. Volume']]"
   ]
  },
  {
   "cell_type": "code",
   "execution_count": 7,
   "metadata": {},
   "outputs": [
    {
     "data": {
      "text/html": [
       "<div>\n",
       "<style scoped>\n",
       "    .dataframe tbody tr th:only-of-type {\n",
       "        vertical-align: middle;\n",
       "    }\n",
       "\n",
       "    .dataframe tbody tr th {\n",
       "        vertical-align: top;\n",
       "    }\n",
       "\n",
       "    .dataframe thead th {\n",
       "        text-align: right;\n",
       "    }\n",
       "</style>\n",
       "<table border=\"1\" class=\"dataframe\">\n",
       "  <thead>\n",
       "    <tr style=\"text-align: right;\">\n",
       "      <th></th>\n",
       "      <th>Date</th>\n",
       "      <th>Adj. Close</th>\n",
       "      <th>volatility</th>\n",
       "      <th>PCT_Change</th>\n",
       "      <th>Adj. Open</th>\n",
       "      <th>Adj. Volume</th>\n",
       "    </tr>\n",
       "  </thead>\n",
       "  <tbody>\n",
       "    <tr>\n",
       "      <th>0</th>\n",
       "      <td>2004-08-19</td>\n",
       "      <td>50.322842</td>\n",
       "      <td>0.037126</td>\n",
       "      <td>0.003250</td>\n",
       "      <td>50.159839</td>\n",
       "      <td>44659000.0</td>\n",
       "    </tr>\n",
       "    <tr>\n",
       "      <th>1</th>\n",
       "      <td>2004-08-20</td>\n",
       "      <td>54.322689</td>\n",
       "      <td>0.007109</td>\n",
       "      <td>0.072270</td>\n",
       "      <td>50.661387</td>\n",
       "      <td>22834300.0</td>\n",
       "    </tr>\n",
       "    <tr>\n",
       "      <th>2</th>\n",
       "      <td>2004-08-23</td>\n",
       "      <td>54.869377</td>\n",
       "      <td>0.037294</td>\n",
       "      <td>-0.012279</td>\n",
       "      <td>55.551482</td>\n",
       "      <td>18256100.0</td>\n",
       "    </tr>\n",
       "    <tr>\n",
       "      <th>3</th>\n",
       "      <td>2004-08-24</td>\n",
       "      <td>52.597363</td>\n",
       "      <td>0.064175</td>\n",
       "      <td>-0.057264</td>\n",
       "      <td>55.792225</td>\n",
       "      <td>15247300.0</td>\n",
       "    </tr>\n",
       "    <tr>\n",
       "      <th>4</th>\n",
       "      <td>2004-08-25</td>\n",
       "      <td>53.164113</td>\n",
       "      <td>0.018868</td>\n",
       "      <td>0.011837</td>\n",
       "      <td>52.542193</td>\n",
       "      <td>9188600.0</td>\n",
       "    </tr>\n",
       "  </tbody>\n",
       "</table>\n",
       "</div>"
      ],
      "text/plain": [
       "         Date  Adj. Close  volatility  PCT_Change  Adj. Open  Adj. Volume\n",
       "0  2004-08-19   50.322842    0.037126    0.003250  50.159839   44659000.0\n",
       "1  2004-08-20   54.322689    0.007109    0.072270  50.661387   22834300.0\n",
       "2  2004-08-23   54.869377    0.037294   -0.012279  55.551482   18256100.0\n",
       "3  2004-08-24   52.597363    0.064175   -0.057264  55.792225   15247300.0\n",
       "4  2004-08-25   53.164113    0.018868    0.011837  52.542193    9188600.0"
      ]
     },
     "execution_count": 7,
     "metadata": {},
     "output_type": "execute_result"
    }
   ],
   "source": [
    "df1.head()"
   ]
  },
  {
   "cell_type": "markdown",
   "metadata": {},
   "source": []
  },
  {
   "cell_type": "code",
   "execution_count": 8,
   "metadata": {},
   "outputs": [],
   "source": [
    "##df2 = df1[['Adj. Close']]\n",
    "##df2.head()\n",
    "##df2.reset_index(level=0, inplace=True)\n",
    "##df2.head()\n",
    "#df2 = df2.rename(columns={'Date': 'ds'})\n",
    "##df2.head()\n",
    "##df2 = df2.rename(columns={'Adj. Close': 'y'})\n",
    "##df2.head()\n",
    "##df= df2\n",
    "##m = Prophet()\n",
    "##m.fit(df)"
   ]
  },
  {
   "cell_type": "code",
   "execution_count": 9,
   "metadata": {},
   "outputs": [],
   "source": [
    "df2 = df1.rename(columns={'Date': 'ds'})\n",
    "df2 = df2.rename(columns={'Adj. Close': 'y'})"
   ]
  },
  {
   "cell_type": "code",
   "execution_count": 10,
   "metadata": {},
   "outputs": [
    {
     "data": {
      "text/html": [
       "<div>\n",
       "<style scoped>\n",
       "    .dataframe tbody tr th:only-of-type {\n",
       "        vertical-align: middle;\n",
       "    }\n",
       "\n",
       "    .dataframe tbody tr th {\n",
       "        vertical-align: top;\n",
       "    }\n",
       "\n",
       "    .dataframe thead th {\n",
       "        text-align: right;\n",
       "    }\n",
       "</style>\n",
       "<table border=\"1\" class=\"dataframe\">\n",
       "  <thead>\n",
       "    <tr style=\"text-align: right;\">\n",
       "      <th></th>\n",
       "      <th>ds</th>\n",
       "      <th>y</th>\n",
       "      <th>volatility</th>\n",
       "      <th>PCT_Change</th>\n",
       "      <th>Adj. Open</th>\n",
       "      <th>Adj. Volume</th>\n",
       "    </tr>\n",
       "  </thead>\n",
       "  <tbody>\n",
       "    <tr>\n",
       "      <th>0</th>\n",
       "      <td>2004-08-19</td>\n",
       "      <td>50.322842</td>\n",
       "      <td>0.037126</td>\n",
       "      <td>0.003250</td>\n",
       "      <td>50.159839</td>\n",
       "      <td>44659000.0</td>\n",
       "    </tr>\n",
       "    <tr>\n",
       "      <th>1</th>\n",
       "      <td>2004-08-20</td>\n",
       "      <td>54.322689</td>\n",
       "      <td>0.007109</td>\n",
       "      <td>0.072270</td>\n",
       "      <td>50.661387</td>\n",
       "      <td>22834300.0</td>\n",
       "    </tr>\n",
       "    <tr>\n",
       "      <th>2</th>\n",
       "      <td>2004-08-23</td>\n",
       "      <td>54.869377</td>\n",
       "      <td>0.037294</td>\n",
       "      <td>-0.012279</td>\n",
       "      <td>55.551482</td>\n",
       "      <td>18256100.0</td>\n",
       "    </tr>\n",
       "    <tr>\n",
       "      <th>3</th>\n",
       "      <td>2004-08-24</td>\n",
       "      <td>52.597363</td>\n",
       "      <td>0.064175</td>\n",
       "      <td>-0.057264</td>\n",
       "      <td>55.792225</td>\n",
       "      <td>15247300.0</td>\n",
       "    </tr>\n",
       "    <tr>\n",
       "      <th>4</th>\n",
       "      <td>2004-08-25</td>\n",
       "      <td>53.164113</td>\n",
       "      <td>0.018868</td>\n",
       "      <td>0.011837</td>\n",
       "      <td>52.542193</td>\n",
       "      <td>9188600.0</td>\n",
       "    </tr>\n",
       "  </tbody>\n",
       "</table>\n",
       "</div>"
      ],
      "text/plain": [
       "           ds          y  volatility  PCT_Change  Adj. Open  Adj. Volume\n",
       "0  2004-08-19  50.322842    0.037126    0.003250  50.159839   44659000.0\n",
       "1  2004-08-20  54.322689    0.007109    0.072270  50.661387   22834300.0\n",
       "2  2004-08-23  54.869377    0.037294   -0.012279  55.551482   18256100.0\n",
       "3  2004-08-24  52.597363    0.064175   -0.057264  55.792225   15247300.0\n",
       "4  2004-08-25  53.164113    0.018868    0.011837  52.542193    9188600.0"
      ]
     },
     "execution_count": 10,
     "metadata": {},
     "output_type": "execute_result"
    }
   ],
   "source": [
    "df2.head()"
   ]
  },
  {
   "cell_type": "code",
   "execution_count": null,
   "metadata": {},
   "outputs": [],
   "source": []
  },
  {
   "cell_type": "code",
   "execution_count": null,
   "metadata": {},
   "outputs": [],
   "source": [
    "\n"
   ]
  },
  {
   "cell_type": "code",
   "execution_count": null,
   "metadata": {},
   "outputs": [],
   "source": []
  },
  {
   "cell_type": "code",
   "execution_count": null,
   "metadata": {},
   "outputs": [],
   "source": []
  },
  {
   "cell_type": "markdown",
   "metadata": {},
   "source": [
    "#### now we fit the model my instantiate a Prophet object.and the value will be pass through the constructor then we fit the model"
   ]
  },
  {
   "cell_type": "code",
   "execution_count": 11,
   "metadata": {},
   "outputs": [
    {
     "name": "stderr",
     "output_type": "stream",
     "text": [
      "INFO:fbprophet.forecaster:Disabling daily seasonality. Run prophet with daily_seasonality=True to override this.\n",
      "/root/anaconda2/lib/python2.7/site-packages/pystan/misc.py:399: FutureWarning: Conversion of the second argument of issubdtype from `float` to `np.floating` is deprecated. In future, it will be treated as `np.float64 == np.dtype(float).type`.\n",
      "  elif np.issubdtype(np.asarray(v).dtype, float):\n"
     ]
    },
    {
     "data": {
      "text/plain": [
       "<fbprophet.forecaster.Prophet at 0x7f8a9e0f1b90>"
      ]
     },
     "execution_count": 11,
     "metadata": {},
     "output_type": "execute_result"
    }
   ],
   "source": [
    "m = Prophet()\n",
    "m.fit(df2)\n"
   ]
  },
  {
   "cell_type": "markdown",
   "metadata": {},
   "source": [
    "## lets predict the feture datasets\n",
    "### Predictions are then made on a dataframe with a column ds containing the dates for which a prediction is to be made. You can get a suitable dataframe that extends into the future a specified number of days using the helper method Prophet.make_future_dataframe. By default it will also include the dates from the history, so we will see the model fit as well."
   ]
  },
  {
   "cell_type": "code",
   "execution_count": 17,
   "metadata": {},
   "outputs": [],
   "source": [
    "future = m.make_future_dataframe(periods=365)"
   ]
  },
  {
   "cell_type": "code",
   "execution_count": 18,
   "metadata": {},
   "outputs": [
    {
     "data": {
      "text/html": [
       "<div>\n",
       "<style scoped>\n",
       "    .dataframe tbody tr th:only-of-type {\n",
       "        vertical-align: middle;\n",
       "    }\n",
       "\n",
       "    .dataframe tbody tr th {\n",
       "        vertical-align: top;\n",
       "    }\n",
       "\n",
       "    .dataframe thead th {\n",
       "        text-align: right;\n",
       "    }\n",
       "</style>\n",
       "<table border=\"1\" class=\"dataframe\">\n",
       "  <thead>\n",
       "    <tr style=\"text-align: right;\">\n",
       "      <th></th>\n",
       "      <th>ds</th>\n",
       "    </tr>\n",
       "  </thead>\n",
       "  <tbody>\n",
       "    <tr>\n",
       "      <th>3784</th>\n",
       "      <td>2019-03-23</td>\n",
       "    </tr>\n",
       "    <tr>\n",
       "      <th>3785</th>\n",
       "      <td>2019-03-24</td>\n",
       "    </tr>\n",
       "    <tr>\n",
       "      <th>3786</th>\n",
       "      <td>2019-03-25</td>\n",
       "    </tr>\n",
       "    <tr>\n",
       "      <th>3787</th>\n",
       "      <td>2019-03-26</td>\n",
       "    </tr>\n",
       "    <tr>\n",
       "      <th>3788</th>\n",
       "      <td>2019-03-27</td>\n",
       "    </tr>\n",
       "  </tbody>\n",
       "</table>\n",
       "</div>"
      ],
      "text/plain": [
       "             ds\n",
       "3784 2019-03-23\n",
       "3785 2019-03-24\n",
       "3786 2019-03-25\n",
       "3787 2019-03-26\n",
       "3788 2019-03-27"
      ]
     },
     "execution_count": 18,
     "metadata": {},
     "output_type": "execute_result"
    }
   ],
   "source": [
    "future.tail()"
   ]
  },
  {
   "cell_type": "code",
   "execution_count": 19,
   "metadata": {},
   "outputs": [],
   "source": [
    "## it will extend the date with new date "
   ]
  },
  {
   "cell_type": "code",
   "execution_count": 20,
   "metadata": {},
   "outputs": [],
   "source": [
    "forecast = m.predict(future)"
   ]
  },
  {
   "cell_type": "code",
   "execution_count": 22,
   "metadata": {},
   "outputs": [
    {
     "data": {
      "text/html": [
       "<div>\n",
       "<style scoped>\n",
       "    .dataframe tbody tr th:only-of-type {\n",
       "        vertical-align: middle;\n",
       "    }\n",
       "\n",
       "    .dataframe tbody tr th {\n",
       "        vertical-align: top;\n",
       "    }\n",
       "\n",
       "    .dataframe thead th {\n",
       "        text-align: right;\n",
       "    }\n",
       "</style>\n",
       "<table border=\"1\" class=\"dataframe\">\n",
       "  <thead>\n",
       "    <tr style=\"text-align: right;\">\n",
       "      <th></th>\n",
       "      <th>ds</th>\n",
       "      <th>trend</th>\n",
       "      <th>trend_lower</th>\n",
       "      <th>trend_upper</th>\n",
       "      <th>yhat_lower</th>\n",
       "      <th>yhat_upper</th>\n",
       "      <th>additive_terms</th>\n",
       "      <th>additive_terms_lower</th>\n",
       "      <th>additive_terms_upper</th>\n",
       "      <th>multiplicative_terms</th>\n",
       "      <th>multiplicative_terms_lower</th>\n",
       "      <th>multiplicative_terms_upper</th>\n",
       "      <th>weekly</th>\n",
       "      <th>weekly_lower</th>\n",
       "      <th>weekly_upper</th>\n",
       "      <th>yearly</th>\n",
       "      <th>yearly_lower</th>\n",
       "      <th>yearly_upper</th>\n",
       "      <th>yhat</th>\n",
       "    </tr>\n",
       "  </thead>\n",
       "  <tbody>\n",
       "    <tr>\n",
       "      <th>3784</th>\n",
       "      <td>2019-03-23</td>\n",
       "      <td>1244.173812</td>\n",
       "      <td>1174.563951</td>\n",
       "      <td>1305.147207</td>\n",
       "      <td>1164.214267</td>\n",
       "      <td>1304.561064</td>\n",
       "      <td>-6.575616</td>\n",
       "      <td>-6.575616</td>\n",
       "      <td>-6.575616</td>\n",
       "      <td>0.0</td>\n",
       "      <td>0.0</td>\n",
       "      <td>0.0</td>\n",
       "      <td>-0.733775</td>\n",
       "      <td>-0.733775</td>\n",
       "      <td>-0.733775</td>\n",
       "      <td>-5.841842</td>\n",
       "      <td>-5.841842</td>\n",
       "      <td>-5.841842</td>\n",
       "      <td>1237.598195</td>\n",
       "    </tr>\n",
       "    <tr>\n",
       "      <th>3785</th>\n",
       "      <td>2019-03-24</td>\n",
       "      <td>1244.642623</td>\n",
       "      <td>1174.333901</td>\n",
       "      <td>1305.873182</td>\n",
       "      <td>1153.925386</td>\n",
       "      <td>1307.180959</td>\n",
       "      <td>-7.033933</td>\n",
       "      <td>-7.033933</td>\n",
       "      <td>-7.033933</td>\n",
       "      <td>0.0</td>\n",
       "      <td>0.0</td>\n",
       "      <td>0.0</td>\n",
       "      <td>-0.733775</td>\n",
       "      <td>-0.733775</td>\n",
       "      <td>-0.733775</td>\n",
       "      <td>-6.300158</td>\n",
       "      <td>-6.300158</td>\n",
       "      <td>-6.300158</td>\n",
       "      <td>1237.608691</td>\n",
       "    </tr>\n",
       "    <tr>\n",
       "      <th>3786</th>\n",
       "      <td>2019-03-25</td>\n",
       "      <td>1245.111435</td>\n",
       "      <td>1174.528913</td>\n",
       "      <td>1306.599156</td>\n",
       "      <td>1158.589596</td>\n",
       "      <td>1308.381641</td>\n",
       "      <td>-6.473032</td>\n",
       "      <td>-6.473032</td>\n",
       "      <td>-6.473032</td>\n",
       "      <td>0.0</td>\n",
       "      <td>0.0</td>\n",
       "      <td>0.0</td>\n",
       "      <td>0.280695</td>\n",
       "      <td>0.280695</td>\n",
       "      <td>0.280695</td>\n",
       "      <td>-6.753728</td>\n",
       "      <td>-6.753728</td>\n",
       "      <td>-6.753728</td>\n",
       "      <td>1238.638402</td>\n",
       "    </tr>\n",
       "    <tr>\n",
       "      <th>3787</th>\n",
       "      <td>2019-03-26</td>\n",
       "      <td>1245.580246</td>\n",
       "      <td>1174.736325</td>\n",
       "      <td>1307.376936</td>\n",
       "      <td>1159.954835</td>\n",
       "      <td>1310.150660</td>\n",
       "      <td>-6.997328</td>\n",
       "      <td>-6.997328</td>\n",
       "      <td>-6.997328</td>\n",
       "      <td>0.0</td>\n",
       "      <td>0.0</td>\n",
       "      <td>0.0</td>\n",
       "      <td>0.203298</td>\n",
       "      <td>0.203298</td>\n",
       "      <td>0.203298</td>\n",
       "      <td>-7.200626</td>\n",
       "      <td>-7.200626</td>\n",
       "      <td>-7.200626</td>\n",
       "      <td>1238.582918</td>\n",
       "    </tr>\n",
       "    <tr>\n",
       "      <th>3788</th>\n",
       "      <td>2019-03-27</td>\n",
       "      <td>1246.049058</td>\n",
       "      <td>1174.977363</td>\n",
       "      <td>1308.355778</td>\n",
       "      <td>1161.040618</td>\n",
       "      <td>1313.014489</td>\n",
       "      <td>-7.054385</td>\n",
       "      <td>-7.054385</td>\n",
       "      <td>-7.054385</td>\n",
       "      <td>0.0</td>\n",
       "      <td>0.0</td>\n",
       "      <td>0.0</td>\n",
       "      <td>0.584417</td>\n",
       "      <td>0.584417</td>\n",
       "      <td>0.584417</td>\n",
       "      <td>-7.638803</td>\n",
       "      <td>-7.638803</td>\n",
       "      <td>-7.638803</td>\n",
       "      <td>1238.994673</td>\n",
       "    </tr>\n",
       "  </tbody>\n",
       "</table>\n",
       "</div>"
      ],
      "text/plain": [
       "             ds        trend  trend_lower  trend_upper   yhat_lower  \\\n",
       "3784 2019-03-23  1244.173812  1174.563951  1305.147207  1164.214267   \n",
       "3785 2019-03-24  1244.642623  1174.333901  1305.873182  1153.925386   \n",
       "3786 2019-03-25  1245.111435  1174.528913  1306.599156  1158.589596   \n",
       "3787 2019-03-26  1245.580246  1174.736325  1307.376936  1159.954835   \n",
       "3788 2019-03-27  1246.049058  1174.977363  1308.355778  1161.040618   \n",
       "\n",
       "       yhat_upper  additive_terms  additive_terms_lower  additive_terms_upper  \\\n",
       "3784  1304.561064       -6.575616             -6.575616             -6.575616   \n",
       "3785  1307.180959       -7.033933             -7.033933             -7.033933   \n",
       "3786  1308.381641       -6.473032             -6.473032             -6.473032   \n",
       "3787  1310.150660       -6.997328             -6.997328             -6.997328   \n",
       "3788  1313.014489       -7.054385             -7.054385             -7.054385   \n",
       "\n",
       "      multiplicative_terms  multiplicative_terms_lower  \\\n",
       "3784                   0.0                         0.0   \n",
       "3785                   0.0                         0.0   \n",
       "3786                   0.0                         0.0   \n",
       "3787                   0.0                         0.0   \n",
       "3788                   0.0                         0.0   \n",
       "\n",
       "      multiplicative_terms_upper    weekly  weekly_lower  weekly_upper  \\\n",
       "3784                         0.0 -0.733775     -0.733775     -0.733775   \n",
       "3785                         0.0 -0.733775     -0.733775     -0.733775   \n",
       "3786                         0.0  0.280695      0.280695      0.280695   \n",
       "3787                         0.0  0.203298      0.203298      0.203298   \n",
       "3788                         0.0  0.584417      0.584417      0.584417   \n",
       "\n",
       "        yearly  yearly_lower  yearly_upper         yhat  \n",
       "3784 -5.841842     -5.841842     -5.841842  1237.598195  \n",
       "3785 -6.300158     -6.300158     -6.300158  1237.608691  \n",
       "3786 -6.753728     -6.753728     -6.753728  1238.638402  \n",
       "3787 -7.200626     -7.200626     -7.200626  1238.582918  \n",
       "3788 -7.638803     -7.638803     -7.638803  1238.994673  "
      ]
     },
     "execution_count": 22,
     "metadata": {},
     "output_type": "execute_result"
    }
   ],
   "source": [
    "forecast.tail()"
   ]
  },
  {
   "cell_type": "markdown",
   "metadata": {},
   "source": [
    "#### The predict method will assign each row in future a predicted value which it names yhat. If you pass in historical dates, it will provide an in-sample fit. The forecast object here is a new dataframe that includes a column yhat with the forecast, as well as columns for components and uncertainty intervals."
   ]
  },
  {
   "cell_type": "code",
   "execution_count": 23,
   "metadata": {},
   "outputs": [
    {
     "data": {
      "text/html": [
       "<div>\n",
       "<style scoped>\n",
       "    .dataframe tbody tr th:only-of-type {\n",
       "        vertical-align: middle;\n",
       "    }\n",
       "\n",
       "    .dataframe tbody tr th {\n",
       "        vertical-align: top;\n",
       "    }\n",
       "\n",
       "    .dataframe thead th {\n",
       "        text-align: right;\n",
       "    }\n",
       "</style>\n",
       "<table border=\"1\" class=\"dataframe\">\n",
       "  <thead>\n",
       "    <tr style=\"text-align: right;\">\n",
       "      <th></th>\n",
       "      <th>ds</th>\n",
       "      <th>yhat</th>\n",
       "      <th>yhat_lower</th>\n",
       "      <th>yhat_upper</th>\n",
       "    </tr>\n",
       "  </thead>\n",
       "  <tbody>\n",
       "    <tr>\n",
       "      <th>3784</th>\n",
       "      <td>2019-03-23</td>\n",
       "      <td>1237.598195</td>\n",
       "      <td>1164.214267</td>\n",
       "      <td>1304.561064</td>\n",
       "    </tr>\n",
       "    <tr>\n",
       "      <th>3785</th>\n",
       "      <td>2019-03-24</td>\n",
       "      <td>1237.608691</td>\n",
       "      <td>1153.925386</td>\n",
       "      <td>1307.180959</td>\n",
       "    </tr>\n",
       "    <tr>\n",
       "      <th>3786</th>\n",
       "      <td>2019-03-25</td>\n",
       "      <td>1238.638402</td>\n",
       "      <td>1158.589596</td>\n",
       "      <td>1308.381641</td>\n",
       "    </tr>\n",
       "    <tr>\n",
       "      <th>3787</th>\n",
       "      <td>2019-03-26</td>\n",
       "      <td>1238.582918</td>\n",
       "      <td>1159.954835</td>\n",
       "      <td>1310.150660</td>\n",
       "    </tr>\n",
       "    <tr>\n",
       "      <th>3788</th>\n",
       "      <td>2019-03-27</td>\n",
       "      <td>1238.994673</td>\n",
       "      <td>1161.040618</td>\n",
       "      <td>1313.014489</td>\n",
       "    </tr>\n",
       "  </tbody>\n",
       "</table>\n",
       "</div>"
      ],
      "text/plain": [
       "             ds         yhat   yhat_lower   yhat_upper\n",
       "3784 2019-03-23  1237.598195  1164.214267  1304.561064\n",
       "3785 2019-03-24  1237.608691  1153.925386  1307.180959\n",
       "3786 2019-03-25  1238.638402  1158.589596  1308.381641\n",
       "3787 2019-03-26  1238.582918  1159.954835  1310.150660\n",
       "3788 2019-03-27  1238.994673  1161.040618  1313.014489"
      ]
     },
     "execution_count": 23,
     "metadata": {},
     "output_type": "execute_result"
    }
   ],
   "source": [
    "forecast[['ds', 'yhat', 'yhat_lower', 'yhat_upper']].tail()"
   ]
  },
  {
   "cell_type": "code",
   "execution_count": 24,
   "metadata": {},
   "outputs": [],
   "source": [
    "samp_forcast=forecast[['ds', 'yhat']]"
   ]
  },
  {
   "cell_type": "code",
   "execution_count": 25,
   "metadata": {},
   "outputs": [
    {
     "data": {
      "image/png": "[encoded data removed]",
      "text/plain": [
       "<Figure size 720x432 with 1 Axes>"
      ]
     },
     "metadata": {},
     "output_type": "display_data"
    }
   ],
   "source": [
    "fig1 = m.plot(forecast)"
   ]
  },
  {
   "cell_type": "code",
   "execution_count": 26,
   "metadata": {},
   "outputs": [
    {
     "data": {
      "image/png": "[encoded data removed]",
      "text/plain": [
       "<Figure size 648x648 with 3 Axes>"
      ]
     },
     "metadata": {},
     "output_type": "display_data"
    }
   ],
   "source": [
    "fig2 = m.plot_components(forecast)"
   ]
  },
  {
   "cell_type": "code",
   "execution_count": null,
   "metadata": {},
   "outputs": [],
   "source": []
  }
 ],
 "metadata": {
  "kernelspec": {
   "display_name": "Python 2",
   "language": "python",
   "name": "python2"
  },
  "language_info": {
   "codemirror_mode": {
    "name": "ipython",
    "version": 2
   },
   "file_extension": ".py",
   "mimetype": "text/x-python",
   "name": "python",
   "nbconvert_exporter": "python",
   "pygments_lexer": "ipython2",
   "version": "2.7.15"
  }
 },
 "nbformat": 4,
 "nbformat_minor": 2
}
